{
 "cells": [
  {
   "cell_type": "markdown",
   "metadata": {},
   "source": [
    "## Import Libraries"
   ]
  },
  {
   "cell_type": "code",
   "execution_count": 2,
   "metadata": {},
   "outputs": [],
   "source": [
    "import numpy as np\n",
    "import pandas as pd\n",
    "from pyomo.environ import ConcreteModel, Var, Objective, Constraint, NonNegativeReals, SolverFactory"
   ]
  },
  {
   "cell_type": "markdown",
   "metadata": {},
   "source": [
    "## Directory"
   ]
  },
  {
   "cell_type": "code",
   "execution_count": null,
   "metadata": {},
   "outputs": [],
   "source": []
  },
  {
   "cell_type": "markdown",
   "metadata": {},
   "source": [
    "## Risk Parity"
   ]
  },
  {
   "cell_type": "code",
   "execution_count": 3,
   "metadata": {},
   "outputs": [],
   "source": [
    "def risk_parity_pyomo(returns, asset_classes, asset_class_constraints):\n",
    "    \"\"\"\n",
    "    Computes portfolio weights using Risk Parity with Pyomo, allowing user-defined asset allocation constraints.\n",
    "    \n",
    "    Parameters:\n",
    "        returns (pd.DataFrame): Historical returns of assets.\n",
    "        asset_classes (dict): Dictionary mapping asset names to their asset class ('stocks', 'bonds', 'deposits').\n",
    "        asset_class_constraints (dict): User-defined allocation constraints for asset classes, \n",
    "                                        e.g., {'stocks': (0.3, 0.7), 'bonds': (0.2, 0.5), 'deposits': (0.1, 0.3)}.\n",
    "\n",
    "    Returns:\n",
    "        dict: Optimized portfolio weights.\n",
    "    \"\"\"\n",
    "    # Compute covariance matrix\n",
    "    Sigma = returns.cov().values\n",
    "    assets = list(returns.columns)\n",
    "    num_assets = len(assets)\n",
    "\n",
    "    # Create Pyomo Model\n",
    "    model = ConcreteModel()\n",
    "    \n",
    "    # Variables: Portfolio Weights (No short-selling allowed)\n",
    "    model.w = Var(range(num_assets), domain=NonNegativeReals)\n",
    "    \n",
    "    # Constraint: Fully Invested Portfolio (sum of weights = 1)\n",
    "    model.full_investment = Constraint(expr=sum(model.w[i] for i in range(num_assets)) == 1)\n",
    "\n",
    "    # Portfolio Variance Calculation\n",
    "    def portfolio_variance(model):\n",
    "        return sum(model.w[i] * Sigma[i, j] * model.w[j] for i in range(num_assets) for j in range(num_assets))\n",
    "\n",
    "    # Risk Contribution Calculation\n",
    "    def risk_contribution(i):\n",
    "        return model.w[i] * sum(Sigma[i, j] * model.w[j] for j in range(num_assets)) / portfolio_variance(model)\n",
    "\n",
    "    # Risk Parity Objective: Minimize the standard deviation of risk contributions\n",
    "    def objective_function(model):\n",
    "        risk_contributions = [risk_contribution(i) for i in range(num_assets)]\n",
    "        mean_risk = sum(risk_contributions) / num_assets\n",
    "        return sum((risk_contributions[i] - mean_risk) ** 2 for i in range(num_assets))\n",
    "    \n",
    "    model.objective = Objective(rule=objective_function, sense=1)  # Minimize risk contribution disparity\n",
    "\n",
    "    # Apply User-Defined Asset Class Constraints\n",
    "    for asset_class, (lower, upper) in asset_class_constraints.items():\n",
    "        indices = [i for i, asset in enumerate(assets) if asset_classes[asset] == asset_class]\n",
    "        if indices:\n",
    "            model.add_component(f\"{asset_class}_min\", Constraint(expr=sum(model.w[i] for i in indices) >= lower))\n",
    "            model.add_component(f\"{asset_class}_max\", Constraint(expr=sum(model.w[i] for i in indices) <= upper))\n",
    "\n",
    "    # Solve the Optimization Problem\n",
    "    solver = SolverFactory('ipopt')\n",
    "    solver.solve(model, tee=True)\n",
    "\n",
    "    # Extract Optimized Weights\n",
    "    weights = {assets[i]: model.w[i].value for i in range(num_assets)}\n",
    "    return weights\n"
   ]
  },
  {
   "cell_type": "code",
   "execution_count": null,
   "metadata": {},
   "outputs": [],
   "source": [
    "np.random.seed(42)\n",
    "returns_data = pd.DataFrame(np.random.randn(100, 5) / 100, columns=['AAPL', 'GOOGL', 'TLT', 'IEF', 'CASH'])\n",
    "\n",
    "# Define asset classes\n",
    "asset_classes = {\n",
    "    'AAPL': 'stocks', \n",
    "    'GOOGL': 'stocks', \n",
    "    'TLT': 'bonds', \n",
    "    'IEF': 'bonds', \n",
    "    'CASH': 'deposits'\n",
    "}\n",
    "\n",
    "# User-Defined Allocation Constraints\n",
    "asset_class_constraints = {\n",
    "    'stocks': (0.3, 0.7),   # Stocks allocation between 30% and 70%\n",
    "    'bonds': (0.2, 0.5),    # Bonds allocation between 20% and 50%\n",
    "    'deposits': (0.1, 0.3)  # Deposits allocation between 10% and 30%\n",
    "}\n",
    "\n",
    "# Compute Optimized Weights\n",
    "optimal_weights = risk_parity_pyomo(returns_data, asset_classes, asset_class_constraints)\n",
    "print(\"\\nOptimized Portfolio Weights:\", optimal_weights)"
   ]
  }
 ],
 "metadata": {
  "kernelspec": {
   "display_name": "Python 3",
   "language": "python",
   "name": "python3"
  },
  "language_info": {
   "codemirror_mode": {
    "name": "ipython",
    "version": 3
   },
   "file_extension": ".py",
   "mimetype": "text/x-python",
   "name": "python",
   "nbconvert_exporter": "python",
   "pygments_lexer": "ipython3",
   "version": "3.12.4"
  }
 },
 "nbformat": 4,
 "nbformat_minor": 2
}
