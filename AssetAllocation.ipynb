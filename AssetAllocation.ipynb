{
 "cells": [
  {
   "cell_type": "markdown",
   "metadata": {},
   "source": [
    "## Import Libraries"
   ]
  },
  {
   "cell_type": "code",
   "execution_count": 2,
   "metadata": {},
   "outputs": [],
   "source": [
    "import numpy as np\n",
    "import pandas as pd\n",
    "from pyomo.environ import ConcreteModel, Var, Objective, Constraint, NonNegativeReals, SolverFactory"
   ]
  },
  {
   "cell_type": "markdown",
   "metadata": {},
   "source": [
    "## Directory"
   ]
  },
  {
   "cell_type": "code",
   "execution_count": null,
   "metadata": {},
   "outputs": [],
   "source": []
  },
  {
   "cell_type": "markdown",
   "metadata": {},
   "source": [
    "## Risk Parity"
   ]
  },
  {
   "cell_type": "code",
   "execution_count": 3,
   "metadata": {},
   "outputs": [],
   "source": [
    "def risk_parity_pyomo(returns, asset_classes, asset_class_constraints):\n",
    "    \"\"\"\n",
    "    Computes portfolio weights using Risk Parity with Pyomo, allowing user-defined asset allocation constraints.\n",
    "    \n",
    "    Parameters:\n",
    "        returns (pd.DataFrame): Historical returns of assets.\n",
    "        asset_classes (dict): Dictionary mapping asset names to their asset class ('stocks', 'bonds', 'deposits').\n",
    "        asset_class_constraints (dict): User-defined allocation constraints for asset classes, \n",
    "                                        e.g., {'stocks': (0.3, 0.7), 'bonds': (0.2, 0.5), 'deposits': (0.1, 0.3)}.\n",
    "\n",
    "    Returns:\n",
    "        dict: Optimized portfolio weights.\n",
    "    \"\"\"\n",
    "    # Compute covariance matrix\n",
    "    Sigma = returns.cov().values\n",
    "    assets = list(returns.columns)\n",
    "    num_assets = len(assets)\n",
    "\n",
    "    # Create Pyomo Model\n",
    "    model = ConcreteModel()\n",
    "    \n",
    "    # Variables: Portfolio Weights (No short-selling allowed)\n",
    "    model.w = Var(range(num_assets), domain=NonNegativeReals)\n",
    "    \n",
    "    # Constraint: Fully Invested Portfolio (sum of weights = 1)\n",
    "    model.full_investment = Constraint(expr=sum(model.w[i] for i in range(num_assets)) == 1)\n",
    "\n",
    "    # Portfolio Variance Calculation\n",
    "    def portfolio_variance(model):\n",
    "        return sum(model.w[i] * Sigma[i, j] * model.w[j] for i in range(num_assets) for j in range(num_assets))\n",
    "\n",
    "    # Risk Contribution Calculation\n",
    "    def risk_contribution(i):\n",
    "        return model.w[i] * sum(Sigma[i, j] * model.w[j] for j in range(num_assets)) / portfolio_variance(model)\n",
    "\n",
    "    # Risk Parity Objective: Minimize the standard deviation of risk contributions\n",
    "    def objective_function(model):\n",
    "        risk_contributions = [risk_contribution(i) for i in range(num_assets)]\n",
    "        mean_risk = sum(risk_contributions) / num_assets\n",
    "        return sum((risk_contributions[i] - mean_risk) ** 2 for i in range(num_assets))\n",
    "    \n",
    "    model.objective = Objective(rule=objective_function, sense=1)  # Minimize risk contribution disparity\n",
    "\n",
    "    # Apply User-Defined Asset Class Constraints\n",
    "    for asset_class, (lower, upper) in asset_class_constraints.items():\n",
    "        indices = [i for i, asset in enumerate(assets) if asset_classes[asset] == asset_class]\n",
    "        if indices:\n",
    "            model.add_component(f\"{asset_class}_min\", Constraint(expr=sum(model.w[i] for i in indices) >= lower))\n",
    "            model.add_component(f\"{asset_class}_max\", Constraint(expr=sum(model.w[i] for i in indices) <= upper))\n",
    "\n",
    "    # Solve the Optimization Problem\n",
    "    solver = SolverFactory('ipopt')\n",
    "    solver.solve(model, tee=True)\n",
    "\n",
    "    # Extract Optimized Weights\n",
    "    weights = {assets[i]: model.w[i].value for i in range(num_assets)}\n",
    "    return weights\n"
   ]
  },
  {
   "cell_type": "code",
   "execution_count": 5,
   "metadata": {},
   "outputs": [
    {
     "name": "stdout",
     "output_type": "stream",
     "text": [
      "Ipopt 3.11.1: \n",
      "\n",
      "******************************************************************************\n",
      "This program contains Ipopt, a library for large-scale nonlinear optimization.\n",
      " Ipopt is released as open source code under the Eclipse Public License (EPL).\n",
      "         For more information visit http://projects.coin-or.org/Ipopt\n",
      "******************************************************************************\n",
      "\n",
      "NOTE: You are using Ipopt by default with the MUMPS linear solver.\n",
      "      Other linear solvers might be more efficient (see Ipopt documentation).\n",
      "\n",
      "\n",
      "This is Ipopt version 3.11.1, running with linear solver mumps.\n",
      "\n",
      "Number of nonzeros in equality constraint Jacobian...:        5\n",
      "Number of nonzeros in inequality constraint Jacobian.:       10\n",
      "Number of nonzeros in Lagrangian Hessian.............:       15\n",
      "\n",
      "Error in an AMPL evaluation. Run with \"halt_on_ampl_error yes\" to see details.\n",
      "Error evaluating objective gradient at user provided starting point.\n",
      "  No scaling factor for objective function computed!\n",
      "Total number of variables............................:        5\n",
      "                     variables with only lower bounds:        5\n",
      "                variables with lower and upper bounds:        0\n",
      "                     variables with only upper bounds:        0\n",
      "Total number of equality constraints.................:        1\n",
      "Total number of inequality constraints...............:        6\n",
      "        inequality constraints with only lower bounds:        3\n",
      "   inequality constraints with lower and upper bounds:        0\n",
      "        inequality constraints with only upper bounds:        3\n",
      "\n",
      "iter    objective    inf_pr   inf_du lg(mu)  ||d||  lg(rg) alpha_du alpha_pr  ls\n",
      "   0 1.3725054e-002 9.50e-001 4.19e+000  -1.0 0.00e+000    -  0.00e+000 0.00e+000   0\n",
      "   1 5.1328405e-002 0.00e+000 1.60e+001  -1.0 4.17e-001    -  7.20e-002 1.00e+000f  1\n",
      "   2 6.8246486e-003 0.00e+000 4.53e-001  -1.0 1.30e-001    -  8.65e-001 1.00e+000f  1\n",
      "   3 9.0269563e-004 0.00e+000 2.48e-002  -1.7 2.45e-002    -  1.00e+000 1.00e+000f  1\n",
      "   4 9.1370347e-005 0.00e+000 1.35e-002  -3.8 7.91e-003    -  9.49e-001 1.00e+000f  1\n",
      "   5 4.0398073e-007 0.00e+000 4.41e-004  -3.8 3.65e-003    -  1.00e+000 1.00e+000f  1\n",
      "   6 4.1198411e-011 0.00e+000 2.52e-006  -5.7 2.39e-004    -  1.00e+000 1.00e+000f  1\n",
      "   7 1.7619435e-017 0.00e+000 2.01e-010  -8.6 2.80e-006    -  1.00e+000 1.00e+000f  1\n",
      "\n",
      "Number of Iterations....: 7\n",
      "\n",
      "                                   (scaled)                 (unscaled)\n",
      "Objective...............:  1.7619434851770516e-017   1.7619434851770516e-017\n",
      "Dual infeasibility......:  2.0142732247614350e-010   2.0142732247614350e-010\n",
      "Constraint violation....:  0.0000000000000000e+000   0.0000000000000000e+000\n",
      "Complementarity.........:  2.5800480877523662e-009   2.5800480877523662e-009\n",
      "Overall NLP error.......:  2.5800480877523662e-009   2.5800480877523662e-009\n",
      "\n",
      "\n",
      "Number of objective function evaluations             = 8\n",
      "Number of objective gradient evaluations             = 8\n",
      "Number of equality constraint evaluations            = 8\n",
      "Number of inequality constraint evaluations          = 8\n",
      "Number of equality constraint Jacobian evaluations   = 8\n",
      "Number of inequality constraint Jacobian evaluations = 8\n",
      "Number of Lagrangian Hessian evaluations             = 7\n",
      "Total CPU secs in IPOPT (w/o function evaluations)   =      0.004\n",
      "Total CPU secs in NLP function evaluations           =      0.000\n",
      "\n",
      "EXIT: Optimal Solution Found.\n",
      "\n",
      "Optimized Portfolio Weights: {'AAPL': 0.2518067652272881, 'GOOGL': 0.1918582750216747, 'TLT': 0.17229530513482538, 'IEF': 0.20370337412744832, 'CASH': 0.18033628048876346}\n"
     ]
    }
   ],
   "source": [
    "np.random.seed(42)\n",
    "returns_data = pd.DataFrame(np.random.randn(100, 5) / 100, columns=['AAPL', 'GOOGL', 'TLT', 'IEF', 'CASH'])\n",
    "\n",
    "# Define asset classes\n",
    "asset_classes = {\n",
    "    'AAPL': 'stocks', \n",
    "    'GOOGL': 'stocks', \n",
    "    'TLT': 'bonds', \n",
    "    'IEF': 'bonds', \n",
    "    'CASH': 'deposits'\n",
    "}\n",
    "\n",
    "# User-Defined Allocation Constraints\n",
    "asset_class_constraints = {\n",
    "    'stocks': (0.3, 0.7),   # Stocks allocation between 30% and 70%\n",
    "    'bonds': (0.2, 0.5),    # Bonds allocation between 20% and 50%\n",
    "    'deposits': (0.1, 0.3)  # Deposits allocation between 10% and 30%\n",
    "}\n",
    "\n",
    "# Compute Optimized Weights\n",
    "optimal_weights = risk_parity_pyomo(returns_data, asset_classes, asset_class_constraints)\n",
    "print(\"\\nOptimized Portfolio Weights:\", optimal_weights)"
   ]
  },
  {
   "cell_type": "code",
   "execution_count": 6,
   "metadata": {},
   "outputs": [
    {
     "data": {
      "text/plain": [
       "{'AAPL': 0.2518067652272881,\n",
       " 'GOOGL': 0.1918582750216747,\n",
       " 'TLT': 0.17229530513482538,\n",
       " 'IEF': 0.20370337412744832,\n",
       " 'CASH': 0.18033628048876346}"
      ]
     },
     "execution_count": 6,
     "metadata": {},
     "output_type": "execute_result"
    }
   ],
   "source": [
    "optimal_weights"
   ]
  }
 ],
 "metadata": {
  "kernelspec": {
   "display_name": "Python 3",
   "language": "python",
   "name": "python3"
  },
  "language_info": {
   "codemirror_mode": {
    "name": "ipython",
    "version": 3
   },
   "file_extension": ".py",
   "mimetype": "text/x-python",
   "name": "python",
   "nbconvert_exporter": "python",
   "pygments_lexer": "ipython3",
   "version": "3.12.4"
  }
 },
 "nbformat": 4,
 "nbformat_minor": 2
}
