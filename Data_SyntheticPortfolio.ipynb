{
 "cells": [
  {
   "cell_type": "markdown",
   "metadata": {},
   "source": [
    "## READ ME"
   ]
  },
  {
   "cell_type": "code",
   "execution_count": null,
   "metadata": {},
   "outputs": [
    {
     "data": {
      "text/plain": [
       "' This code is not finished yet. DO NOT USE IT.\\n'"
      ]
     },
     "execution_count": 26,
     "metadata": {},
     "output_type": "execute_result"
    }
   ],
   "source": [
    "\"\"\"\n",
    "This code is not finished yet. DO NOT USE IT.\n",
    "\n",
    "\"\"\""
   ]
  },
  {
   "cell_type": "markdown",
   "metadata": {},
   "source": [
    "## Importing Libraries"
   ]
  },
  {
   "cell_type": "code",
   "execution_count": 2,
   "metadata": {},
   "outputs": [],
   "source": [
    "import numpy as np\n",
    "import pandas as pd\n",
    "from faker import Faker"
   ]
  },
  {
   "cell_type": "markdown",
   "metadata": {},
   "source": [
    "## Directory"
   ]
  },
  {
   "cell_type": "code",
   "execution_count": 5,
   "metadata": {},
   "outputs": [],
   "source": [
    "homepath = \"C:/A.PROJECTS/stockprediction/\""
   ]
  },
  {
   "cell_type": "markdown",
   "metadata": {},
   "source": [
    "## Bond Info"
   ]
  },
  {
   "cell_type": "code",
   "execution_count": 23,
   "metadata": {},
   "outputs": [],
   "source": [
    "\n",
    "\n",
    "# Initialize Faker to generate fake company names\n",
    "fake = Faker()\n",
    "\n",
    "# Function to generate synthetic bond data with fixed coupon rates\n",
    "def generate_bond_data_fixed_coupon(num_bonds, bond_type):\n",
    "    np.random.seed(42)  # Ensuring reproducibility\n",
    "    \n",
    "    bond_data = []\n",
    "    fixed_coupon_rates = [0.16, 0.18, 0.23]  # Fixed coupon rates\n",
    "    \n",
    "    for _ in range(num_bonds):\n",
    "        if bond_type == \"Treasury\":\n",
    "            company_name = \"U.S. Treasury\"  # Fixed name for treasury bonds\n",
    "            price = np.random.uniform(95, 105)  # Treasury bond prices close to par\n",
    "            coupon_rate = np.random.choice(fixed_coupon_rates)  # Fixed coupon rates\n",
    "            time_to_maturity_years = np.random.uniform(0.5, 5)  # Short-term maturities (0.5-5 years)\n",
    "            compounding = \"semi-annual\"\n",
    "        else:  # Corporate bonds\n",
    "            company_name = fake.company()  # Generate fake company name\n",
    "            price = np.random.uniform(80, 110)  # More variability in corporate bond prices\n",
    "            coupon_rate = np.random.choice(fixed_coupon_rates)  # Fixed coupon rates\n",
    "            time_to_maturity_years = np.random.uniform(5, 30)  # Long-term corporate bonds (5-30 years)\n",
    "            compounding = np.random.choice([\"semi-annual\", \"annual\", \"continuous\"])\n",
    "        \n",
    "        par_value = 100\n",
    "        payment_frequency = np.random.choice([1, 2, 4])  # Annual, Semi-Annual, or Quarterly\n",
    "        num_periods = int(time_to_maturity_years * payment_frequency)\n",
    "        discount_rate = np.random.uniform(0.01, 0.06)  # Required yield\n",
    "        day_count_convention = np.random.choice([\"30/360\", \"actual/actual\"])\n",
    "        time_to_maturity_days = int(time_to_maturity_years * 365)  # Convert years to days\n",
    "        \n",
    "        bond_data.append([\n",
    "            bond_type, company_name, price, coupon_rate, payment_frequency, par_value, \n",
    "            time_to_maturity_years, time_to_maturity_days, num_periods, discount_rate, \n",
    "            day_count_convention, compounding\n",
    "        ])\n",
    "    \n",
    "    return bond_data\n",
    "\n",
    "# Generate synthetic data for 10 short-term Treasury bonds and 30 long-term Corporate bonds\n",
    "treasury_bonds = generate_bond_data_fixed_coupon(10, \"Treasury\")\n",
    "corporate_bonds = generate_bond_data_fixed_coupon(30, \"Corporate\")\n",
    "\n",
    "# Create a DataFrame with company names and fixed coupon rates\n",
    "columns = [\n",
    "    \"Bond Type\", \"Company Name\", \"Bond Price\", \"Coupon Rate\", \"Coupon Payment Frequency\", \n",
    "    \"Face Value\", \"Time to Maturity (Years)\", \"Time to Maturity (Days)\", \"Number of Periods\", \n",
    "    \"Discount Rate (Yield)\", \"Day Count Convention\", \"Compounding Convention\"\n",
    "]\n",
    "\n",
    "BondInfo_df = pd.DataFrame(treasury_bonds + corporate_bonds, columns=columns)\n"
   ]
  },
  {
   "cell_type": "markdown",
   "metadata": {},
   "source": [
    "## Bond Price"
   ]
  },
  {
   "cell_type": "code",
   "execution_count": 24,
   "metadata": {},
   "outputs": [],
   "source": [
    "import numpy as np\n",
    "import pandas as pd\n",
    "from datetime import datetime, timedelta\n",
    "\n",
    "# Parameters\n",
    "num_bonds = 30  # 15 Treasury, 15 Corporate\n",
    "num_days = 365 * 5  # 5 years of daily prices\n",
    "start_date = datetime.today() - timedelta(days=num_days)\n",
    "\n",
    "# Generate bond tickers\n",
    "treasury_tickers = [f\"T-Bond-{i+1}\" for i in range(15)]\n",
    "corporate_tickers = [f\"Corp-Bond-{i+1}\" for i in range(15)]\n",
    "all_tickers = treasury_tickers + corporate_tickers\n",
    "\n",
    "# Historical volatility estimates for real bonds (approximate)\n",
    "treasury_vol = 0.002  # Low volatility\n",
    "corporate_vol = 0.005  # Higher than treasuries\n",
    "\n",
    "# Mean daily drift assumption (approximate)\n",
    "treasury_drift = 0.0001\n",
    "corporate_drift = 0.0003\n",
    "\n",
    "# Generate synthetic time series data\n",
    "dates = [start_date + timedelta(days=i) for i in range(num_days)]\n",
    "bond_data = {\"Date\": dates}\n",
    "\n",
    "for ticker in all_tickers:\n",
    "    is_treasury = \"T-Bond\" in ticker\n",
    "    drift = treasury_drift if is_treasury else corporate_drift\n",
    "    vol = treasury_vol if is_treasury else corporate_vol\n",
    "    \n",
    "    # Simulating log-normal price evolution\n",
    "    prices = [100]  # Start at par\n",
    "    for _ in range(1, num_days):\n",
    "        price_change = np.random.normal(drift, vol) * prices[-1]\n",
    "        new_price = prices[-1] + price_change\n",
    "        prices.append(new_price)\n",
    "    \n",
    "    bond_data[ticker] = prices\n",
    "\n",
    "# Convert to DataFrame\n",
    "BondPrice_df = pd.DataFrame(bond_data)\n"
   ]
  },
  {
   "cell_type": "markdown",
   "metadata": {},
   "source": [
    "## Stock Info"
   ]
  },
  {
   "cell_type": "code",
   "execution_count": 18,
   "metadata": {},
   "outputs": [
    {
     "name": "stdout",
     "output_type": "stream",
     "text": [
      "Processing batch 1: ['MMM', 'AOS', 'ABT', 'ABBV', 'ACN', 'ADBE', 'AMD', 'AES', 'AFL', 'A', 'APD', 'ABNB', 'AKAM', 'ALB', 'ARE', 'ALGN', 'ALLE', 'LNT', 'ALL', 'GOOGL', 'GOOG', 'MO', 'AMZN', 'AMCR', 'AEE', 'AEP', 'AXP', 'AIG', 'AMT', 'AWK']\n",
      "Processing batch 2: ['AMP', 'AME', 'AMGN', 'APH', 'ADI', 'ANSS', 'AON', 'APA', 'APO', 'AAPL', 'AMAT', 'APTV', 'ACGL', 'ADM', 'ANET', 'AJG', 'AIZ', 'T', 'ATO', 'ADSK', 'ADP', 'AZO', 'AVB', 'AVY', 'AXON', 'BKR', 'BALL', 'BAC', 'BAX', 'BDX']\n",
      "Processing batch 3: ['BRK.B', 'BBY', 'TECH', 'BIIB', 'BLK', 'BX', 'BK', 'BA', 'BKNG', 'BWA', 'BSX', 'BMY', 'AVGO', 'BR', 'BRO', 'BF.B', 'BLDR', 'BG', 'BXP', 'CHRW', 'CDNS', 'CZR', 'CPT', 'CPB', 'COF', 'CAH', 'KMX', 'CCL', 'CARR', 'CAT']\n",
      "Processing batch 4: ['CBOE', 'CBRE', 'CDW', 'CE', 'COR', 'CNC', 'CNP', 'CF', 'CRL', 'SCHW', 'CHTR', 'CVX', 'CMG', 'CB', 'CHD', 'CI', 'CINF', 'CTAS', 'CSCO', 'C', 'CFG', 'CLX', 'CME', 'CMS', 'KO', 'CTSH', 'CL', 'CMCSA', 'CAG', 'COP']\n",
      "Processing batch 5: ['ED', 'STZ', 'CEG', 'COO', 'CPRT', 'GLW', 'CPAY', 'CTVA', 'CSGP', 'COST', 'CTRA', 'CRWD', 'CCI', 'CSX', 'CMI', 'CVS', 'DHR', 'DRI', 'DVA', 'DAY', 'DECK', 'DE', 'DELL', 'DAL', 'DVN', 'DXCM', 'FANG', 'DLR', 'DFS', 'DG']\n",
      "Processing batch 6: ['DLTR', 'D', 'DPZ', 'DOV', 'DOW', 'DHI', 'DTE', 'DUK', 'DD', 'EMN', 'ETN', 'EBAY', 'ECL', 'EIX', 'EW', 'EA', 'ELV', 'EMR', 'ENPH', 'ETR', 'EOG', 'EPAM', 'EQT', 'EFX', 'EQIX', 'EQR', 'ERIE', 'ESS', 'EL', 'EG']\n",
      "Processing batch 7: ['EVRG', 'ES', 'EXC', 'EXPE', 'EXPD', 'EXR', 'XOM', 'FFIV', 'FDS', 'FICO', 'FAST', 'FRT', 'FDX', 'FIS', 'FITB', 'FSLR', 'FE', 'FI', 'FMC', 'F', 'FTNT', 'FTV', 'FOXA', 'FOX', 'BEN', 'FCX', 'GRMN', 'IT', 'GE', 'GEHC']\n",
      "Processing batch 8: ['GEV', 'GEN', 'GNRC', 'GD', 'GIS', 'GM', 'GPC', 'GILD', 'GPN', 'GL', 'GDDY', 'GS', 'HAL', 'HIG', 'HAS', 'HCA', 'DOC', 'HSIC', 'HSY', 'HES', 'HPE', 'HLT', 'HOLX', 'HD', 'HON', 'HRL', 'HST', 'HWM', 'HPQ', 'HUBB']\n",
      "Processing batch 9: ['HUM', 'HBAN', 'HII', 'IBM', 'IEX', 'IDXX', 'ITW', 'INCY', 'IR', 'PODD', 'INTC', 'ICE', 'IFF', 'IP', 'IPG', 'INTU', 'ISRG', 'IVZ', 'INVH', 'IQV', 'IRM', 'JBHT', 'JBL', 'JKHY', 'J', 'JNJ', 'JCI', 'JPM', 'JNPR', 'K']\n",
      "Processing batch 10: ['KVUE', 'KDP', 'KEY', 'KEYS', 'KMB', 'KIM', 'KMI', 'KKR', 'KLAC', 'KHC', 'KR', 'LHX', 'LH', 'LRCX', 'LW', 'LVS', 'LDOS', 'LEN', 'LII', 'LLY', 'LIN', 'LYV', 'LKQ', 'LMT', 'L', 'LOW', 'LULU', 'LYB', 'MTB', 'MPC']\n",
      "Processing batch 11: ['MKTX', 'MAR', 'MMC', 'MLM', 'MAS', 'MA', 'MTCH', 'MKC', 'MCD', 'MCK', 'MDT', 'MRK', 'META', 'MET', 'MTD', 'MGM', 'MCHP', 'MU', 'MSFT', 'MAA', 'MRNA', 'MHK', 'MOH', 'TAP', 'MDLZ', 'MPWR', 'MNST', 'MCO', 'MS', 'MOS']\n",
      "Processing batch 12: ['MSI', 'MSCI', 'NDAQ', 'NTAP', 'NFLX', 'NEM', 'NWSA', 'NWS', 'NEE', 'NKE', 'NI', 'NDSN', 'NSC', 'NTRS', 'NOC', 'NCLH', 'NRG', 'NUE', 'NVDA', 'NVR', 'NXPI', 'ORLY', 'OXY', 'ODFL', 'OMC', 'ON', 'OKE', 'ORCL', 'OTIS', 'PCAR']\n",
      "Processing batch 13: ['PKG', 'PLTR', 'PANW', 'PARA', 'PH', 'PAYX', 'PAYC', 'PYPL', 'PNR', 'PEP', 'PFE', 'PCG', 'PM', 'PSX', 'PNW', 'PNC', 'POOL', 'PPG', 'PPL', 'PFG', 'PG', 'PGR', 'PLD', 'PRU', 'PEG', 'PTC', 'PSA', 'PHM', 'PWR', 'QCOM']\n",
      "Processing batch 14: ['DGX', 'RL', 'RJF', 'RTX', 'O', 'REG', 'REGN', 'RF', 'RSG', 'RMD', 'RVTY', 'ROK', 'ROL', 'ROP', 'ROST', 'RCL', 'SPGI', 'CRM', 'SBAC', 'SLB', 'STX', 'SRE', 'NOW', 'SHW', 'SPG', 'SWKS', 'SJM', 'SW', 'SNA', 'SOLV']\n",
      "Processing batch 15: ['SO', 'LUV', 'SWK', 'SBUX', 'STT', 'STLD', 'STE', 'SYK', 'SMCI', 'SYF', 'SNPS', 'SYY', 'TMUS', 'TROW', 'TTWO', 'TPR', 'TRGP', 'TGT', 'TEL', 'TDY', 'TFX', 'TER', 'TSLA', 'TXN', 'TPL', 'TXT', 'TMO', 'TJX', 'TSCO', 'TT']\n",
      "Processing batch 16: ['TDG', 'TRV', 'TRMB', 'TFC', 'TYL', 'TSN', 'USB', 'UBER', 'UDR', 'ULTA', 'UNP', 'UAL', 'UPS', 'URI', 'UNH', 'UHS', 'VLO', 'VTR', 'VLTO', 'VRSN', 'VRSK', 'VZ', 'VRTX', 'VTRS', 'VICI', 'V', 'VST', 'VMC', 'WRB', 'GWW']\n",
      "Processing batch 17: ['WAB', 'WBA', 'WMT', 'DIS', 'WBD', 'WM', 'WAT', 'WEC', 'WFC', 'WELL', 'WST', 'WDC', 'WY', 'WMB', 'WTW', 'WDAY', 'WYNN', 'XEL', 'XYL', 'YUM', 'ZBRA', 'ZBH', 'ZTS']\n"
     ]
    }
   ],
   "source": [
    "import yfinance as yf\n",
    "import pandas as pd\n",
    "import time\n",
    "\n",
    "# Define the fields to retrieve\n",
    "general_info_fields = [\n",
    "    \"symbol\", \"shortName\", \"sector\", \"industry\", \"country\", \"fullTimeEmployees\", \"website\", \"longBusinessSummary\"\n",
    "]\n",
    "\n",
    "# Function to fetch general information of tickers\n",
    "def get_general_info(tickers):\n",
    "    data = []\n",
    "    for ticker in tickers:\n",
    "        stock = yf.Ticker(ticker)\n",
    "        info = stock.info\n",
    "        data.append({field: info.get(field, \"N/A\") for field in general_info_fields})\n",
    "    return pd.DataFrame(data)\n",
    "\n",
    "# List of mock tickers\n",
    "mock_tickers =  pd.read_excel(homepath + \"data/SP500Tickers.xlsx\")[\"Symbol\"].to_list()\n",
    "# Batch size\n",
    "batch_size = 30\n",
    "\n",
    "dff_list = []\n",
    "\n",
    "# Loop through batches of tickers\n",
    "for i in range(0, len(mock_tickers), batch_size):\n",
    "    batch = mock_tickers[i:i + batch_size]  # Get the next 30 tickers\n",
    "    print(f\"Processing batch {i // batch_size + 1}: {batch}\")\n",
    "    \n",
    "    try:\n",
    "        dff = get_general_info(batch)  # Fetch general stock info\n",
    "        dff_list.append(dff)  # Append DataFrame to list\n",
    "        \n",
    "    except Exception as e:\n",
    "        print(f\"Error processing batch {i // batch_size + 1}: {e}\")\n",
    "    \n",
    "    time.sleep(5)  # Wait for 5 seconds before next batch\n",
    "\n",
    "# Concatenate all DataFrames into a final one\n",
    "StockInfo_df = pd.concat(dff_list, ignore_index=True)\n"
   ]
  }
 ],
 "metadata": {
  "kernelspec": {
   "display_name": "Python 3",
   "language": "python",
   "name": "python3"
  },
  "language_info": {
   "codemirror_mode": {
    "name": "ipython",
    "version": 3
   },
   "file_extension": ".py",
   "mimetype": "text/x-python",
   "name": "python",
   "nbconvert_exporter": "python",
   "pygments_lexer": "ipython3",
   "version": "3.12.4"
  }
 },
 "nbformat": 4,
 "nbformat_minor": 2
}
