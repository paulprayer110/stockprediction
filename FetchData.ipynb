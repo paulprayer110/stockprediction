{
 "cells": [
  {
   "cell_type": "markdown",
   "metadata": {},
   "source": [
    "## Import Libraries"
   ]
  },
  {
   "cell_type": "code",
   "execution_count": 6,
   "metadata": {},
   "outputs": [],
   "source": [
    "import yfinance as yf\n",
    "import pandas as pd\n",
    "import numpy as np\n",
    "\n",
    "import warnings\n",
    "warnings.filterwarnings('ignore')"
   ]
  },
  {
   "cell_type": "markdown",
   "metadata": {},
   "source": [
    "## Directory"
   ]
  },
  {
   "cell_type": "code",
   "execution_count": 2,
   "metadata": {},
   "outputs": [],
   "source": [
    "homepath = \"C:/A.PROJECTS/stockprediction/\""
   ]
  },
  {
   "cell_type": "markdown",
   "metadata": {},
   "source": [
    "## Fetch Data"
   ]
  },
  {
   "cell_type": "markdown",
   "metadata": {},
   "source": [
    "### 30 Random Tickers timeseries"
   ]
  },
  {
   "cell_type": "code",
   "execution_count": 3,
   "metadata": {},
   "outputs": [],
   "source": [
    "def get_stock_data(tickers, start_date, end_date):\n",
    "    \"\"\"\n",
    "    Fetch adjusted close (or close) prices for a list of stock tickers from Yahoo Finance.\n",
    "    \n",
    "    Parameters:\n",
    "    tickers (list): List of stock tickers (e.g., ['AAPL', 'MSFT']).\n",
    "    start_date (str): Start date in 'YYYY-MM-DD' format.\n",
    "    end_date (str): End date in 'YYYY-MM-DD' format.\n",
    "    \n",
    "    Returns:\n",
    "    DataFrame: A pandas DataFrame with prices for the selected tickers.\n",
    "    \"\"\"\n",
    "    raw_data = yf.download(tickers, start=start_date, end=end_date, progress=False)\n",
    "\n",
    "    if 'Adj Close' in raw_data:\n",
    "        stock_data = raw_data['Adj Close']\n",
    "    elif 'Close' in raw_data:\n",
    "        stock_data = raw_data['Close']\n",
    "    else:\n",
    "        raise ValueError(\"Neither 'Adj Close' nor 'Close' data is available for the tickers.\")\n",
    "    \n",
    "    stock_data.dropna(axis=1, inplace=True)\n",
    "    return stock_data"
   ]
  },
  {
   "cell_type": "code",
   "execution_count": 4,
   "metadata": {},
   "outputs": [
    {
     "name": "stdout",
     "output_type": "stream",
     "text": [
      "Successfully fetched data for 30 tickers.\n"
     ]
    },
    {
     "name": "stderr",
     "output_type": "stream",
     "text": [
      "C:\\Users\\BSI\\AppData\\Local\\Temp\\ipykernel_2916\\428597619.py:22: SettingWithCopyWarning: \n",
      "A value is trying to be set on a copy of a slice from a DataFrame\n",
      "\n",
      "See the caveats in the documentation: https://pandas.pydata.org/pandas-docs/stable/user_guide/indexing.html#returning-a-view-versus-a-copy\n",
      "  stock_data.dropna(axis=1, inplace=True)\n"
     ]
    }
   ],
   "source": [
    "all_tickers = [\n",
    "    'AAPL', 'MSFT', 'GOOGL', 'AMZN', 'META', 'TSLA', 'NVDA', 'JPM', 'V', 'JNJ',\n",
    "    'WMT', 'PG', 'DIS', 'BAC', 'XOM', 'CVX', 'PFE', 'KO', 'PEP', 'NFLX',\n",
    "    'ADBE', 'CSCO', 'INTC', 'CRM', 'ORCL', 'QCOM', 'IBM', 'AVGO', 'TXN', 'T'\n",
    "]\n",
    "\n",
    "start_date = \"2020-01-01\"\n",
    "end_date = \"2023-01-01\" \n",
    "\n",
    "try:\n",
    "    stock_prices = get_stock_data(all_tickers, start_date, end_date)\n",
    "    print(f\"Successfully fetched data for {len(stock_prices.columns)} tickers.\")\n",
    "except Exception as e:\n",
    "    print(f\"An error occurred: {e}\")"
   ]
  },
  {
   "cell_type": "code",
   "execution_count": 5,
   "metadata": {},
   "outputs": [],
   "source": [
    "# stock_prices.to_csv(homepath + \"data/stock_prices_30_tickers.csv\")"
   ]
  }
 ],
 "metadata": {
  "kernelspec": {
   "display_name": "Python 3",
   "language": "python",
   "name": "python3"
  },
  "language_info": {
   "codemirror_mode": {
    "name": "ipython",
    "version": 3
   },
   "file_extension": ".py",
   "mimetype": "text/x-python",
   "name": "python",
   "nbconvert_exporter": "python",
   "pygments_lexer": "ipython3",
   "version": "3.12.4"
  }
 },
 "nbformat": 4,
 "nbformat_minor": 2
}
