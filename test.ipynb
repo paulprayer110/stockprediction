{
 "cells": [
  {
   "cell_type": "code",
   "execution_count": null,
   "metadata": {},
   "outputs": [],
   "source": [
    "\n",
    "import rpy2.robjects as ro\n",
    "\n",
    "# Assign a Python variable to an R variable\n",
    "python_list = [1, 2, 3, 4, 5]\n",
    "r_list = ro.FloatVector(python_list)  # Convert Python list to R vector\n",
    "\n",
    "# Pass the R variable into an R function and compute the sum\n",
    "ro.globalenv['r_list'] = r_list\n",
    "ro.r('sum_r_list <- sum(r_list)')\n",
    "sum_r_list = ro.r('sum_r_list')[0]  # Retrieve the result\n",
    "\n",
    "print(f\"The sum from R is: {sum_r_list}\")\n"
   ]
  }
 ],
 "metadata": {
  "kernelspec": {
   "display_name": "Python 3",
   "language": "python",
   "name": "python3"
  },
  "language_info": {
   "name": "python",
   "version": "3.12.4"
  }
 },
 "nbformat": 4,
 "nbformat_minor": 2
}
