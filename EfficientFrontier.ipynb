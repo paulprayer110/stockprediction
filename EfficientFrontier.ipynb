{
 "cells": [
  {
   "cell_type": "markdown",
   "metadata": {},
   "source": [
    "## Import Libraries"
   ]
  },
  {
   "cell_type": "code",
   "execution_count": 1,
   "metadata": {},
   "outputs": [],
   "source": [
    "import yfinance as yf\n",
    "import pandas as pd\n",
    "import numpy as np\n",
    "import matplotlib.pyplot as plt\n",
    "from pyomo.environ import ConcreteModel, Var, NonNegativeReals, Objective, Constraint, minimize, SolverFactory, value, TerminationCondition\n",
    "from pyomo.util.infeasible import log_infeasible_constraints\n",
    "\n",
    "import warnings\n",
    "warnings.filterwarnings('ignore')"
   ]
  },
  {
   "cell_type": "markdown",
   "metadata": {},
   "source": [
    "## Directory"
   ]
  },
  {
   "cell_type": "code",
   "execution_count": 2,
   "metadata": {},
   "outputs": [],
   "source": [
    "homepath = \"C:/A.PROJECTS/stockprediction/\""
   ]
  },
  {
   "cell_type": "markdown",
   "metadata": {},
   "source": [
    "## Data"
   ]
  },
  {
   "cell_type": "code",
   "execution_count": 3,
   "metadata": {},
   "outputs": [],
   "source": [
    "stock_prices = pd.read_csv(homepath + 'data/stock_prices_30_tickers.csv',parse_dates=['Date'], index_col='Date')"
   ]
  },
  {
   "cell_type": "code",
   "execution_count": 4,
   "metadata": {},
   "outputs": [],
   "source": [
    "def compute_returns(df):\n",
    "    \"\"\"\n",
    "    Computes weekly, monthly, quarterly, and annual simple and log returns\n",
    "    from a DataFrame of daily adjusted prices.\n",
    "\n",
    "    Args:\n",
    "        df (pd.DataFrame): DataFrame with daily adjusted prices. The index should be datetime.\n",
    "\n",
    "    Returns:\n",
    "        dict: A dictionary containing DataFrames for weekly, monthly, quarterly, and annual simple and log returns.\n",
    "    \"\"\"\n",
    "\n",
    "    # Ensure the index is datetime\n",
    "    if not isinstance(df.index, pd.DatetimeIndex):\n",
    "        raise ValueError(\"DataFrame index must be a DatetimeIndex.\")\n",
    "\n",
    "    # Function to calculate simple returns\n",
    "    def calculate_simple_returns(data):\n",
    "        return data.pct_change().dropna()\n",
    "\n",
    "    # Function to calculate log returns\n",
    "    def calculate_log_returns(data):\n",
    "        return np.log(data).diff().dropna()\n",
    "\n",
    "    # Resample data and calculate simple returns\n",
    "    weekly_simple_returns = calculate_simple_returns(df.resample('W').last())\n",
    "    monthly_simple_returns = calculate_simple_returns(df.resample('M').last())\n",
    "    quarterly_simple_returns = calculate_simple_returns(df.resample('Q').last())\n",
    "    annual_simple_returns = calculate_simple_returns(df.resample('Y').last())\n",
    "\n",
    "    # Resample data and calculate log returns\n",
    "    weekly_log_returns = calculate_log_returns(df.resample('W').last())\n",
    "    monthly_log_returns = calculate_log_returns(df.resample('M').last())\n",
    "    quarterly_log_returns = calculate_log_returns(df.resample('Q').last())\n",
    "    annual_log_returns = calculate_log_returns(df.resample('Y').last())\n",
    "\n",
    "    return {\n",
    "        'weekly_simple': weekly_simple_returns,\n",
    "        'monthly_simple': monthly_simple_returns,\n",
    "        'quarterly_simple': quarterly_simple_returns,\n",
    "        'annual_simple': annual_simple_returns,\n",
    "        'weekly_log': weekly_log_returns,\n",
    "        'monthly_log': monthly_log_returns,\n",
    "        'quarterly_log': quarterly_log_returns,\n",
    "        'annual_log': annual_log_returns\n",
    "    }"
   ]
  },
  {
   "cell_type": "code",
   "execution_count": 5,
   "metadata": {},
   "outputs": [],
   "source": [
    "rets = compute_returns(stock_prices)"
   ]
  },
  {
   "cell_type": "markdown",
   "metadata": {},
   "source": [
    "## Optimization"
   ]
  },
  {
   "cell_type": "markdown",
   "metadata": {},
   "source": [
    "### Efficient Frontier"
   ]
  },
  {
   "cell_type": "code",
   "execution_count": 6,
   "metadata": {},
   "outputs": [],
   "source": [
    "def optimize_portfolio(returns_df, target_return, solver='ipopt'):\n",
    "    mean_returns = returns_df.mean().values\n",
    "    cov_matrix = returns_df.cov().values\n",
    "    num_assets = len(mean_returns)\n",
    "\n",
    "    # Model Definition\n",
    "    model = ConcreteModel()\n",
    "    \n",
    "    # Decisoin Variable\n",
    "    model.weights = Var(range(num_assets), domain=NonNegativeReals, initialize=1/num_assets)\n",
    "    \n",
    "    # Objective: Minimize Portfolio Variance\n",
    "    model.portfolio_variance = sum(\n",
    "        model.weights[i] * model.weights[j] * cov_matrix[i, j]\n",
    "        for i in range(num_assets) for j in range(num_assets)\n",
    "    )\n",
    "    model.objective = Objective(expr=model.portfolio_variance, sense=minimize)\n",
    "\n",
    "    # Constraints\n",
    "    model.expected_return = sum(model.weights[i] * mean_returns[i] for i in range(num_assets))\n",
    "    model.constraints = Constraint(expr=sum(model.weights[i] for i in range(num_assets)) == 1)  # Sum of weights = 1\n",
    "    model.return_constraint = Constraint(expr=model.expected_return == target_return)  # Target Return Constraint\n",
    "\n",
    "    # Solve the Model\n",
    "    opt = SolverFactory(solver)\n",
    "    results = opt.solve(model, tee=False)\n",
    "\n",
    "    # Check for infeasibility\n",
    "    if results.solver.termination_condition != TerminationCondition.optimal:\n",
    "        print(f\"Target return {target_return} infeasible.\")\n",
    "        log_infeasible_constraints(model)\n",
    "        return None, None  # Return None for weights and variance if infeasible\n",
    "\n",
    "    # Extract Results\n",
    "    weights = [value(model.weights[i]) for i in range(num_assets)]\n",
    "    portfolio_variance = value(model.portfolio_variance)\n",
    "    expected_return = value(model.expected_return)\n",
    "\n",
    "    return weights, expected_return, portfolio_variance"
   ]
  },
  {
   "cell_type": "code",
   "execution_count": 7,
   "metadata": {},
   "outputs": [],
   "source": [
    "def efficient_frontier(returns_df, num_points=100, solver='ipopt'):\n",
    "    min_return, max_return = returns_df.mean().min(), returns_df.mean().max()\n",
    "    target_returns = np.linspace(min_return, max_return, num_points)\n",
    "    portfolio_results = []\n",
    "\n",
    "    for target in target_returns:\n",
    "        weights, expected_return, variance = optimize_portfolio(returns_df, target, solver)\n",
    "        if weights is not None:  # Check if the solution is feasible\n",
    "            portfolio_results.append((expected_return, variance))\n",
    "\n",
    "    return np.array(portfolio_results)"
   ]
  },
  {
   "cell_type": "code",
   "execution_count": 9,
   "metadata": {},
   "outputs": [],
   "source": [
    "def filter_efficient_frontier(frontier_data):\n",
    "    # Sort by variance (risk) in ascending order\n",
    "    sorted_data = frontier_data[np.argsort(frontier_data[:, 1])]\n",
    "\n",
    "    # Keep only the efficient part by ensuring return is increasing with variance\n",
    "    efficient_frontier = []\n",
    "    max_return_so_far = -np.inf  # Initialize with a very low return value\n",
    "\n",
    "    for exp_return, var in sorted_data:\n",
    "        if exp_return > max_return_so_far:  # Keep only if the return is greater than the max so far\n",
    "            efficient_frontier.append([exp_return, var])\n",
    "            max_return_so_far = exp_return\n",
    "\n",
    "    return np.array(efficient_frontier)"
   ]
  },
  {
   "cell_type": "code",
   "execution_count": 10,
   "metadata": {},
   "outputs": [],
   "source": [
    "returns_df = rets['weekly_log']\n",
    "\n",
    "# Calculate the efficient frontier\n",
    "eff_frontier_data = efficient_frontier(returns_df, num_points=100)\n",
    "\n",
    "# Filter the efficient frontier to remove the inefficient part\n",
    "filtered_frontier = filter_efficient_frontier(eff_frontier_data)\n"
   ]
  },
  {
   "cell_type": "code",
   "execution_count": 11,
   "metadata": {},
   "outputs": [
    {
     "data": {
      "image/png": "[encoded data removed]",
      "text/plain": [
       "<Figure size 1000x600 with 1 Axes>"
      ]
     },
     "metadata": {},
     "output_type": "display_data"
    }
   ],
   "source": [
    "# Plot the Efficient Frontier\n",
    "plt.figure(figsize=(10, 6))\n",
    "plt.plot(filtered_frontier[:, 1], filtered_frontier[:, 0], 'b-o', label='Efficient Frontier')  # Efficient Frontier\n",
    "plt.title('Efficient Frontier')\n",
    "plt.xlabel('Portfolio Variance (Risk)')\n",
    "plt.ylabel('Expected Return')\n",
    "plt.grid()\n",
    "plt.legend()\n",
    "plt.show()"
   ]
  }
 ],
 "metadata": {
  "kernelspec": {
   "display_name": "Python 3",
   "language": "python",
   "name": "python3"
  },
  "language_info": {
   "codemirror_mode": {
    "name": "ipython",
    "version": 3
   },
   "file_extension": ".py",
   "mimetype": "text/x-python",
   "name": "python",
   "nbconvert_exporter": "python",
   "pygments_lexer": "ipython3",
   "version": "3.12.4"
  }
 },
 "nbformat": 4,
 "nbformat_minor": 2
}
