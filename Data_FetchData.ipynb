{
 "cells": [
  {
   "cell_type": "markdown",
   "metadata": {},
   "source": [
    "## Import Libraries"
   ]
  },
  {
   "cell_type": "code",
   "execution_count": 1,
   "metadata": {},
   "outputs": [],
   "source": [
    "import yfinance as yf\n",
    "import pandas as pd\n",
    "import numpy as np\n",
    "import os\n",
    "import time\n",
    "from Utils import homepath\n",
    "\n",
    "\n",
    "import warnings\n",
    "warnings.filterwarnings('ignore')"
   ]
  },
  {
   "cell_type": "markdown",
   "metadata": {},
   "source": [
    "## Fetch Data"
   ]
  },
  {
   "cell_type": "markdown",
   "metadata": {},
   "source": [
    "### Index"
   ]
  },
  {
   "cell_type": "code",
   "execution_count": null,
   "metadata": {},
   "outputs": [
    {
     "name": "stderr",
     "output_type": "stream",
     "text": [
      "[*********************100%***********************]  2 of 2 completed\n",
      "\n",
      "1 Failed download:\n",
      "['SPSM']: SSLError(MaxRetryError(\"HTTPSConnectionPool(host='www.yahoo.com', port=443): Max retries exceeded with url: /?guccounter=1 (Caused by SSLError(SSLEOFError(8, '[SSL: UNEXPECTED_EOF_WHILE_READING] EOF occurred in violation of protocol (_ssl.c:1000)')))\"))\n"
     ]
    }
   ],
   "source": [
    "# Define the S&P 500 and S&P 600 index symbols\n",
    "indice_list = [\"^GSPC\", \"SPSM\"]\n",
    "\n",
    "# Download historical data\n",
    "indices = yf.download(indice_list, start=\"2020-01-01\", end=\"2025-01-01\")[\"Close\"]\n",
    "\n",
    "\n",
    "indices.columns = [\"sp600\",\"sp500\"]\n",
    "# indices.to_csv(homepath + 'data/indices.csv')"
   ]
  },
  {
   "cell_type": "markdown",
   "metadata": {},
   "source": [
    "### risk free rate"
   ]
  },
  {
   "cell_type": "code",
   "execution_count": null,
   "metadata": {},
   "outputs": [
    {
     "name": "stderr",
     "output_type": "stream",
     "text": [
      "[*********************100%***********************]  2 of 2 completed\n"
     ]
    }
   ],
   "source": [
    "# Define risk-free rate tickers\n",
    "risk_free_tickers = {\n",
    "    \"3M T-Bill Rate\": \"^IRX\",   # 3-month risk-free rate\n",
    "    \"10Y Treasury Yield\": \"^TNX\"  # 10-year bond yield\n",
    "}\n",
    "\n",
    "test = [\"^IRX\",\"^TNX\"]\n",
    "\n",
    "# Download historical data (latest 1 year)\n",
    "rf_data = yf.download(list(risk_free_tickers.values()), start=\"2020-01-01\", end=\"2025-01-01\")[\"Close\"]\n",
    "\n",
    "# Rename columns for clarity\n",
    "rf_data.columns = risk_free_tickers.keys()\n",
    "\n",
    "# Convert percentages to decimal form (Yahoo Finance reports these as percentages)\n",
    "rf_data = rf_data / 100 \n",
    "\n",
    "# rf_data.to_csv(homepath + \"data/interest_rates.csv\")\n"
   ]
  },
  {
   "cell_type": "markdown",
   "metadata": {},
   "source": [
    "### 30 Random Tickers timeseries"
   ]
  },
  {
   "cell_type": "code",
   "execution_count": null,
   "metadata": {},
   "outputs": [],
   "source": [
    "def get_stock_data(tickers, start_date, end_date):\n",
    "    \"\"\"\n",
    "    Fetch adjusted close (or close) prices for a list of stock tickers from Yahoo Finance.\n",
    "    \n",
    "    Parameters:\n",
    "    tickers (list): List of stock tickers (e.g., ['AAPL', 'MSFT']).\n",
    "    start_date (str): Start date in 'YYYY-MM-DD' format.\n",
    "    end_date (str): End date in 'YYYY-MM-DD' format.\n",
    "    \n",
    "    Returns:\n",
    "    DataFrame: A pandas DataFrame with prices for the selected tickers.\n",
    "    \"\"\"\n",
    "    raw_data = yf.download(tickers, start=start_date, end=end_date, progress=False)\n",
    "\n",
    "    if 'Adj Close' in raw_data:\n",
    "        stock_data = raw_data['Adj Close']\n",
    "    elif 'Close' in raw_data:\n",
    "        stock_data = raw_data['Close']\n",
    "    else:\n",
    "        raise ValueError(\"Neither 'Adj Close' nor 'Close' data is available for the tickers.\")\n",
    "    \n",
    "    stock_data.dropna(axis=1, inplace=True)\n",
    "    return stock_data"
   ]
  },
  {
   "cell_type": "code",
   "execution_count": 16,
   "metadata": {},
   "outputs": [
    {
     "name": "stdout",
     "output_type": "stream",
     "text": [
      "Successfully fetched data for 30 tickers.\n"
     ]
    }
   ],
   "source": [
    "all_tickers = [\n",
    "    'AAPL', 'MSFT', 'GOOGL', 'AMZN', 'META', 'TSLA', 'NVDA', 'JPM', 'V', 'JNJ',\n",
    "    'WMT', 'PG', 'DIS', 'BAC', 'XOM', 'CVX', 'PFE', 'KO', 'PEP', 'NFLX',\n",
    "    'ADBE', 'CSCO', 'INTC', 'CRM', 'ORCL', 'QCOM', 'IBM', 'AVGO', 'TXN', 'T'\n",
    "]\n",
    "\n",
    "start_date = \"2020-01-01\"\n",
    "end_date = \"2023-01-01\" \n",
    "\n",
    "try:\n",
    "    stock_prices = get_stock_data(all_tickers, start_date, end_date)\n",
    "    print(f\"Successfully fetched data for {len(stock_prices.columns)} tickers.\")\n",
    "except Exception as e:\n",
    "    print(f\"An error occurred: {e}\")"
   ]
  },
  {
   "cell_type": "code",
   "execution_count": 5,
   "metadata": {},
   "outputs": [],
   "source": [
    "# stock_prices.to_csv(homepath + \"data/stock_prices_30_tickers.csv\")"
   ]
  },
  {
   "cell_type": "markdown",
   "metadata": {},
   "source": [
    "### SP500 Tickers Timeseries"
   ]
  },
  {
   "cell_type": "code",
   "execution_count": 6,
   "metadata": {},
   "outputs": [],
   "source": [
    "mock_tickers = pd.read_excel(homepath + \"data/SP500Tickers.xlsx\")[\"Symbol\"].to_list()"
   ]
  },
  {
   "cell_type": "code",
   "execution_count": 37,
   "metadata": {},
   "outputs": [
    {
     "name": "stdout",
     "output_type": "stream",
     "text": [
      "Downloading batch 1: ['MMM', 'AOS', 'ABT', 'ABBV', 'ACN', 'ADBE', 'AMD', 'AES', 'AFL', 'A', 'APD', 'ABNB', 'AKAM', 'ALB', 'ARE', 'ALGN', 'ALLE', 'LNT', 'ALL', 'GOOGL', 'GOOG', 'MO', 'AMZN', 'AMCR', 'AEE', 'AEP', 'AXP', 'AIG', 'AMT', 'AWK']\n"
     ]
    },
    {
     "name": "stderr",
     "output_type": "stream",
     "text": [
      "[*********************100%***********************]  30 of 30 completed\n"
     ]
    },
    {
     "name": "stdout",
     "output_type": "stream",
     "text": [
      "Batch 1 data saved to C:/A.PROJECTS/stockprediction/data/batch_1.txt\n",
      "Downloading batch 2: ['AMP', 'AME', 'AMGN', 'APH', 'ADI', 'ANSS', 'AON', 'APA', 'APO', 'AAPL', 'AMAT', 'APTV', 'ACGL', 'ADM', 'ANET', 'AJG', 'AIZ', 'T', 'ATO', 'ADSK', 'ADP', 'AZO', 'AVB', 'AVY', 'AXON', 'BKR', 'BALL', 'BAC', 'BAX', 'BDX']\n"
     ]
    },
    {
     "name": "stderr",
     "output_type": "stream",
     "text": [
      "[*********************100%***********************]  30 of 30 completed\n"
     ]
    },
    {
     "name": "stdout",
     "output_type": "stream",
     "text": [
      "Batch 2 data saved to C:/A.PROJECTS/stockprediction/data/batch_2.txt\n",
      "Downloading batch 3: ['BRK.B', 'BBY', 'TECH', 'BIIB', 'BLK', 'BX', 'BK', 'BA', 'BKNG', 'BWA', 'BSX', 'BMY', 'AVGO', 'BR', 'BRO', 'BF.B', 'BLDR', 'BG', 'BXP', 'CHRW', 'CDNS', 'CZR', 'CPT', 'CPB', 'COF', 'CAH', 'KMX', 'CCL', 'CARR', 'CAT']\n"
     ]
    },
    {
     "name": "stderr",
     "output_type": "stream",
     "text": [
      "[*********************100%***********************]  30 of 30 completed\n",
      "\n",
      "2 Failed downloads:\n",
      "['BF.B']: YFPricesMissingError('$%ticker%: possibly delisted; no price data found  (1d 2020-01-01 -> 2025-01-01)')\n",
      "['BRK.B']: YFTzMissingError('$%ticker%: possibly delisted; no timezone found')\n"
     ]
    },
    {
     "name": "stdout",
     "output_type": "stream",
     "text": [
      "Batch 3 data saved to C:/A.PROJECTS/stockprediction/data/batch_3.txt\n",
      "Downloading batch 4: ['CBOE', 'CBRE', 'CDW', 'CE', 'COR', 'CNC', 'CNP', 'CF', 'CRL', 'SCHW', 'CHTR', 'CVX', 'CMG', 'CB', 'CHD', 'CI', 'CINF', 'CTAS', 'CSCO', 'C', 'CFG', 'CLX', 'CME', 'CMS', 'KO', 'CTSH', 'CL', 'CMCSA', 'CAG', 'COP']\n"
     ]
    },
    {
     "name": "stderr",
     "output_type": "stream",
     "text": [
      "[*********************100%***********************]  30 of 30 completed\n"
     ]
    },
    {
     "name": "stdout",
     "output_type": "stream",
     "text": [
      "Batch 4 data saved to C:/A.PROJECTS/stockprediction/data/batch_4.txt\n",
      "Downloading batch 5: ['ED', 'STZ', 'CEG', 'COO', 'CPRT', 'GLW', 'CPAY', 'CTVA', 'CSGP', 'COST', 'CTRA', 'CRWD', 'CCI', 'CSX', 'CMI', 'CVS', 'DHR', 'DRI', 'DVA', 'DAY', 'DECK', 'DE', 'DELL', 'DAL', 'DVN', 'DXCM', 'FANG', 'DLR', 'DFS', 'DG']\n"
     ]
    },
    {
     "name": "stderr",
     "output_type": "stream",
     "text": [
      "[*********************100%***********************]  30 of 30 completed\n"
     ]
    },
    {
     "name": "stdout",
     "output_type": "stream",
     "text": [
      "Batch 5 data saved to C:/A.PROJECTS/stockprediction/data/batch_5.txt\n",
      "Downloading batch 6: ['DLTR', 'D', 'DPZ', 'DOV', 'DOW', 'DHI', 'DTE', 'DUK', 'DD', 'EMN', 'ETN', 'EBAY', 'ECL', 'EIX', 'EW', 'EA', 'ELV', 'EMR', 'ENPH', 'ETR', 'EOG', 'EPAM', 'EQT', 'EFX', 'EQIX', 'EQR', 'ERIE', 'ESS', 'EL', 'EG']\n"
     ]
    },
    {
     "name": "stderr",
     "output_type": "stream",
     "text": [
      "[*********************100%***********************]  30 of 30 completed\n"
     ]
    },
    {
     "name": "stdout",
     "output_type": "stream",
     "text": [
      "Batch 6 data saved to C:/A.PROJECTS/stockprediction/data/batch_6.txt\n",
      "Downloading batch 7: ['EVRG', 'ES', 'EXC', 'EXPE', 'EXPD', 'EXR', 'XOM', 'FFIV', 'FDS', 'FICO', 'FAST', 'FRT', 'FDX', 'FIS', 'FITB', 'FSLR', 'FE', 'FI', 'FMC', 'F', 'FTNT', 'FTV', 'FOXA', 'FOX', 'BEN', 'FCX', 'GRMN', 'IT', 'GE', 'GEHC']\n"
     ]
    },
    {
     "name": "stderr",
     "output_type": "stream",
     "text": [
      "[*********************100%***********************]  30 of 30 completed\n"
     ]
    },
    {
     "name": "stdout",
     "output_type": "stream",
     "text": [
      "Batch 7 data saved to C:/A.PROJECTS/stockprediction/data/batch_7.txt\n",
      "Downloading batch 8: ['GEV', 'GEN', 'GNRC', 'GD', 'GIS', 'GM', 'GPC', 'GILD', 'GPN', 'GL', 'GDDY', 'GS', 'HAL', 'HIG', 'HAS', 'HCA', 'DOC', 'HSIC', 'HSY', 'HES', 'HPE', 'HLT', 'HOLX', 'HD', 'HON', 'HRL', 'HST', 'HWM', 'HPQ', 'HUBB']\n"
     ]
    },
    {
     "name": "stderr",
     "output_type": "stream",
     "text": [
      "[*********************100%***********************]  30 of 30 completed\n"
     ]
    },
    {
     "name": "stdout",
     "output_type": "stream",
     "text": [
      "Batch 8 data saved to C:/A.PROJECTS/stockprediction/data/batch_8.txt\n",
      "Downloading batch 9: ['HUM', 'HBAN', 'HII', 'IBM', 'IEX', 'IDXX', 'ITW', 'INCY', 'IR', 'PODD', 'INTC', 'ICE', 'IFF', 'IP', 'IPG', 'INTU', 'ISRG', 'IVZ', 'INVH', 'IQV', 'IRM', 'JBHT', 'JBL', 'JKHY', 'J', 'JNJ', 'JCI', 'JPM', 'JNPR', 'K']\n"
     ]
    },
    {
     "name": "stderr",
     "output_type": "stream",
     "text": [
      "[*********************100%***********************]  30 of 30 completed\n"
     ]
    },
    {
     "name": "stdout",
     "output_type": "stream",
     "text": [
      "Batch 9 data saved to C:/A.PROJECTS/stockprediction/data/batch_9.txt\n",
      "Downloading batch 10: ['KVUE', 'KDP', 'KEY', 'KEYS', 'KMB', 'KIM', 'KMI', 'KKR', 'KLAC', 'KHC', 'KR', 'LHX', 'LH', 'LRCX', 'LW', 'LVS', 'LDOS', 'LEN', 'LII', 'LLY', 'LIN', 'LYV', 'LKQ', 'LMT', 'L', 'LOW', 'LULU', 'LYB', 'MTB', 'MPC']\n"
     ]
    },
    {
     "name": "stderr",
     "output_type": "stream",
     "text": [
      "[*********************100%***********************]  30 of 30 completed\n"
     ]
    },
    {
     "name": "stdout",
     "output_type": "stream",
     "text": [
      "Batch 10 data saved to C:/A.PROJECTS/stockprediction/data/batch_10.txt\n",
      "Downloading batch 11: ['MKTX', 'MAR', 'MMC', 'MLM', 'MAS', 'MA', 'MTCH', 'MKC', 'MCD', 'MCK', 'MDT', 'MRK', 'META', 'MET', 'MTD', 'MGM', 'MCHP', 'MU', 'MSFT', 'MAA', 'MRNA', 'MHK', 'MOH', 'TAP', 'MDLZ', 'MPWR', 'MNST', 'MCO', 'MS', 'MOS']\n"
     ]
    },
    {
     "name": "stderr",
     "output_type": "stream",
     "text": [
      "[*********************100%***********************]  30 of 30 completed\n"
     ]
    },
    {
     "name": "stdout",
     "output_type": "stream",
     "text": [
      "Batch 11 data saved to C:/A.PROJECTS/stockprediction/data/batch_11.txt\n",
      "Downloading batch 12: ['MSI', 'MSCI', 'NDAQ', 'NTAP', 'NFLX', 'NEM', 'NWSA', 'NWS', 'NEE', 'NKE', 'NI', 'NDSN', 'NSC', 'NTRS', 'NOC', 'NCLH', 'NRG', 'NUE', 'NVDA', 'NVR', 'NXPI', 'ORLY', 'OXY', 'ODFL', 'OMC', 'ON', 'OKE', 'ORCL', 'OTIS', 'PCAR']\n"
     ]
    },
    {
     "name": "stderr",
     "output_type": "stream",
     "text": [
      "[*********************100%***********************]  30 of 30 completed\n"
     ]
    },
    {
     "name": "stdout",
     "output_type": "stream",
     "text": [
      "Batch 12 data saved to C:/A.PROJECTS/stockprediction/data/batch_12.txt\n",
      "Downloading batch 13: ['PKG', 'PLTR', 'PANW', 'PARA', 'PH', 'PAYX', 'PAYC', 'PYPL', 'PNR', 'PEP', 'PFE', 'PCG', 'PM', 'PSX', 'PNW', 'PNC', 'POOL', 'PPG', 'PPL', 'PFG', 'PG', 'PGR', 'PLD', 'PRU', 'PEG', 'PTC', 'PSA', 'PHM', 'PWR', 'QCOM']\n"
     ]
    },
    {
     "name": "stderr",
     "output_type": "stream",
     "text": [
      "[*********************100%***********************]  30 of 30 completed\n"
     ]
    },
    {
     "name": "stdout",
     "output_type": "stream",
     "text": [
      "Batch 13 data saved to C:/A.PROJECTS/stockprediction/data/batch_13.txt\n",
      "Downloading batch 14: ['DGX', 'RL', 'RJF', 'RTX', 'O', 'REG', 'REGN', 'RF', 'RSG', 'RMD', 'RVTY', 'ROK', 'ROL', 'ROP', 'ROST', 'RCL', 'SPGI', 'CRM', 'SBAC', 'SLB', 'STX', 'SRE', 'NOW', 'SHW', 'SPG', 'SWKS', 'SJM', 'SW', 'SNA', 'SOLV']\n"
     ]
    },
    {
     "name": "stderr",
     "output_type": "stream",
     "text": [
      "[*********************100%***********************]  30 of 30 completed\n"
     ]
    },
    {
     "name": "stdout",
     "output_type": "stream",
     "text": [
      "Batch 14 data saved to C:/A.PROJECTS/stockprediction/data/batch_14.txt\n",
      "Downloading batch 15: ['SO', 'LUV', 'SWK', 'SBUX', 'STT', 'STLD', 'STE', 'SYK', 'SMCI', 'SYF', 'SNPS', 'SYY', 'TMUS', 'TROW', 'TTWO', 'TPR', 'TRGP', 'TGT', 'TEL', 'TDY', 'TFX', 'TER', 'TSLA', 'TXN', 'TPL', 'TXT', 'TMO', 'TJX', 'TSCO', 'TT']\n"
     ]
    },
    {
     "name": "stderr",
     "output_type": "stream",
     "text": [
      "[*********************100%***********************]  30 of 30 completed\n"
     ]
    },
    {
     "name": "stdout",
     "output_type": "stream",
     "text": [
      "Batch 15 data saved to C:/A.PROJECTS/stockprediction/data/batch_15.txt\n",
      "Downloading batch 16: ['TDG', 'TRV', 'TRMB', 'TFC', 'TYL', 'TSN', 'USB', 'UBER', 'UDR', 'ULTA', 'UNP', 'UAL', 'UPS', 'URI', 'UNH', 'UHS', 'VLO', 'VTR', 'VLTO', 'VRSN', 'VRSK', 'VZ', 'VRTX', 'VTRS', 'VICI', 'V', 'VST', 'VMC', 'WRB', 'GWW']\n"
     ]
    },
    {
     "name": "stderr",
     "output_type": "stream",
     "text": [
      "[*********************100%***********************]  30 of 30 completed\n"
     ]
    },
    {
     "name": "stdout",
     "output_type": "stream",
     "text": [
      "Batch 16 data saved to C:/A.PROJECTS/stockprediction/data/batch_16.txt\n",
      "Downloading batch 17: ['WAB', 'WBA', 'WMT', 'DIS', 'WBD', 'WM', 'WAT', 'WEC', 'WFC', 'WELL', 'WST', 'WDC', 'WY', 'WMB', 'WTW', 'WDAY', 'WYNN', 'XEL', 'XYL', 'YUM', 'ZBRA', 'ZBH', 'ZTS']\n"
     ]
    },
    {
     "name": "stderr",
     "output_type": "stream",
     "text": [
      "[*********************100%***********************]  23 of 23 completed\n"
     ]
    },
    {
     "name": "stdout",
     "output_type": "stream",
     "text": [
      "Batch 17 data saved to C:/A.PROJECTS/stockprediction/data/batch_17.txt\n",
      "All batches processed.\n"
     ]
    }
   ],
   "source": [
    "# Batch size\n",
    "batch_size = 30\n",
    "\n",
    "def save_data_to_file(data, filename):\n",
    "    data.to_csv(filename, sep='\\t', index=True)\n",
    "\n",
    "# Loop through batches of the tickers\n",
    "for i in range(0, len(mock_tickers), batch_size):\n",
    "    batch = mock_tickers[i:i + batch_size]  # Get the next 30 tickers\n",
    "    print(f\"Downloading batch {i // batch_size + 1}: {batch}\")\n",
    "    \n",
    "    # Download data for the current batch\n",
    "    try:\n",
    "        data = yf.download(batch, start=\"2020-01-01\", end=\"2025-01-01\")  # Adjust date range\n",
    "        if 'Adj Close' in data:\n",
    "            stock_data = data['Adj Close']\n",
    "        elif 'Close' in data:\n",
    "            stock_data = data['Close']\n",
    "        else:\n",
    "            raise ValueError(\"Neither 'Adj Close' nor 'Close' data is available for the tickers.\")\n",
    "        # Save the data to a text file\n",
    "        batch_filename = homepath + f\"data/batch_{i // batch_size + 1}.txt\"\n",
    "        save_data_to_file(stock_data, batch_filename)\n",
    "        print(f\"Batch {i // batch_size + 1} data saved to {batch_filename}\")\n",
    "        \n",
    "    except Exception as e:\n",
    "        print(f\"Error downloading/saving data for batch {i // batch_size + 1}: {e}\")\n",
    "\n",
    "print(\"All batches processed.\")"
   ]
  },
  {
   "cell_type": "code",
   "execution_count": 9,
   "metadata": {},
   "outputs": [
    {
     "name": "stdout",
     "output_type": "stream",
     "text": [
      "Loading C:/A.PROJECTS/stockprediction/data/batch_1.txt\n",
      "Loading C:/A.PROJECTS/stockprediction/data/batch_2.txt\n",
      "Loading C:/A.PROJECTS/stockprediction/data/batch_3.txt\n",
      "Loading C:/A.PROJECTS/stockprediction/data/batch_4.txt\n",
      "Loading C:/A.PROJECTS/stockprediction/data/batch_5.txt\n",
      "Loading C:/A.PROJECTS/stockprediction/data/batch_6.txt\n",
      "Loading C:/A.PROJECTS/stockprediction/data/batch_7.txt\n",
      "Loading C:/A.PROJECTS/stockprediction/data/batch_8.txt\n",
      "Loading C:/A.PROJECTS/stockprediction/data/batch_9.txt\n",
      "Loading C:/A.PROJECTS/stockprediction/data/batch_10.txt\n",
      "Loading C:/A.PROJECTS/stockprediction/data/batch_11.txt\n",
      "Loading C:/A.PROJECTS/stockprediction/data/batch_12.txt\n",
      "Loading C:/A.PROJECTS/stockprediction/data/batch_13.txt\n",
      "Loading C:/A.PROJECTS/stockprediction/data/batch_14.txt\n",
      "Loading C:/A.PROJECTS/stockprediction/data/batch_15.txt\n",
      "Loading C:/A.PROJECTS/stockprediction/data/batch_16.txt\n",
      "Loading C:/A.PROJECTS/stockprediction/data/batch_17.txt\n",
      "Combined data saved to C:/A.PROJECTS/stockprediction/data/sp500_timeseries.txt\n",
      "(1258, 475)\n"
     ]
    }
   ],
   "source": [
    "def combine_batch_files(num_batches):\n",
    "    # List to hold DataFrames\n",
    "    all_dataframes = []\n",
    "    \n",
    "    # Iterate over each batch file\n",
    "    for batch_number in range(1, num_batches + 1):\n",
    "        batch_filename = homepath + f\"data/batch_{batch_number}.txt\"\n",
    "        \n",
    "        # Check if the file exists\n",
    "        if os.path.exists(batch_filename):\n",
    "            print(f\"Loading {batch_filename}\")\n",
    "            \n",
    "            # Read the batch file into a DataFrame\n",
    "            data = pd.read_csv(batch_filename, sep='\\t', index_col=0, parse_dates=True)\n",
    "            # Append DataFrame to the list\n",
    "            all_dataframes.append(data)\n",
    "        else:\n",
    "            print(f\"{batch_filename} does not exist.\")\n",
    "    \n",
    "    # Concatenate all DataFrames in the list into a single DataFrame\n",
    "    combined_data = pd.concat(all_dataframes, axis=1)\n",
    "    \n",
    "    return combined_data\n",
    "\n",
    "\n",
    "number_of_batches = 17  # For example, replace with actual number of batch files you created\n",
    "\n",
    "# Combine all batch data files into one DataFrame\n",
    "combined_df = combine_batch_files(number_of_batches)\n",
    "\n",
    "# Optional: Save the combined DataFrame to a file\n",
    "combined_df_filename = homepath + \"data/sp500_timeseries.txt\"\n",
    "print(f\"Combined data saved to {combined_df_filename}\")\n",
    "# Example output of the combined DataFrame\n",
    "print(combined_df.shape)\n",
    "\n",
    "combined_df.to_csv(combined_df_filename, sep='\\t')"
   ]
  },
  {
   "cell_type": "markdown",
   "metadata": {},
   "source": [
    "### SP600 Tickers Timeseries"
   ]
  },
  {
   "cell_type": "code",
   "execution_count": 4,
   "metadata": {},
   "outputs": [],
   "source": [
    "sp600_tickers = pd.read_csv(homepath + \"data/SP600Tickers.csv\")[\"Symbol\"].to_list()"
   ]
  },
  {
   "cell_type": "code",
   "execution_count": 5,
   "metadata": {},
   "outputs": [
    {
     "name": "stdout",
     "output_type": "stream",
     "text": [
      "Downloading batch 1: ['AAP', 'AAT', 'ABCB', 'ABG', 'ABM', 'ABR', 'ACA', 'ACAD', 'ACIW', 'ACLS', 'ADEA', 'ADMA', 'ADNT', 'ADUS', 'AEIS', 'AEO', 'AESI', 'AGO', 'AGYS', 'AHCO', 'AHH', 'AIN', 'AIR', 'AKR', 'AL', 'ALEX', 'ALG', 'ALGT', 'ALK', 'ALKS']\n"
     ]
    },
    {
     "name": "stderr",
     "output_type": "stream",
     "text": [
      "[*********************100%***********************]  28 of 30 completed\n",
      "\n",
      "2 Failed downloads:\n",
      "['ABR', 'ACIW']: SSLError(MaxRetryError(\"HTTPSConnectionPool(host='query2.finance.yahoo.com', port=443): Max retries exceeded with url: /v8/finance/chart/%ticker%?period1=1577854800&period2=1735707600&interval=1d&includePrePost=False&events=div%2Csplits%2CcapitalGains&crumb=AzA6uKTvfzG (Caused by SSLError(SSLEOFError(8, '[SSL: UNEXPECTED_EOF_WHILE_READING] EOF occurred in violation of protocol (_ssl.c:1000)')))\"))\n",
      "[***                    7%                       ]  2 of 30 completed"
     ]
    },
    {
     "name": "stdout",
     "output_type": "stream",
     "text": [
      "Batch 1 data saved to C:/A.PROJECTS/stockprediction/data/batch_1.txt\n",
      "Downloading batch 2: ['ALRM', 'AMBC', 'AMN', 'AMPH', 'AMR', 'AMSF', 'AMTM', 'AMWD', 'ANDE', 'ANIP', 'AORT', 'AOSL', 'APAM', 'APLE', 'APOG', 'ARCB', 'ARI', 'ARLO', 'AROC', 'ARR', 'ARWR', 'ASIX', 'ASO', 'ASTE', 'ASTH', 'ATEN', 'ATGE', 'ATI', 'AUB', 'AVA']\n"
     ]
    },
    {
     "name": "stderr",
     "output_type": "stream",
     "text": [
      "[*********************100%***********************]  30 of 30 completedd\n"
     ]
    },
    {
     "name": "stdout",
     "output_type": "stream",
     "text": [
      "Batch 2 data saved to C:/A.PROJECTS/stockprediction/data/batch_2.txt\n",
      "Downloading batch 3: ['AVAV', 'AVNS', 'AWI', 'AWR', 'AX', 'AXL', 'AZTA', 'AZZ', 'BANC', 'BANF', 'BANR', 'BBWI', 'BCC', 'BCPC', 'BDN', 'BFH', 'BFS', 'BGC', 'BGS', 'BHE', 'BHLB', 'BJRI', 'BKE', 'BKU', 'BL', 'BLFS', 'BLMN', 'BMI', 'BOH', 'BOOT']\n"
     ]
    },
    {
     "name": "stderr",
     "output_type": "stream",
     "text": [
      "[*********************100%***********************]  30 of 30 completed\n"
     ]
    },
    {
     "name": "stdout",
     "output_type": "stream",
     "text": [
      "Batch 3 data saved to C:/A.PROJECTS/stockprediction/data/batch_3.txt\n",
      "Downloading batch 4: ['BOX', 'BRC', 'BRKL', 'BSIG', 'BTU', 'BXMT', 'CABO', 'CAKE', 'CAL', 'CALM', 'CALX', 'CARG', 'CARS', 'CASH', 'CATY', 'CBRL', 'CBU', 'CCOI', 'CCS', 'CENT', 'CENTA', 'CENX', 'CERT', 'CEVA', 'CFFN', 'CHCO', 'CHEF', 'CLB', 'CNK', 'CNMD']\n"
     ]
    },
    {
     "name": "stderr",
     "output_type": "stream",
     "text": [
      "[*********************100%***********************]  30 of 30 completed\n"
     ]
    },
    {
     "name": "stdout",
     "output_type": "stream",
     "text": [
      "Batch 4 data saved to C:/A.PROJECTS/stockprediction/data/batch_4.txt\n",
      "Downloading batch 5: ['CNR', 'CNS', 'CNXN', 'COHU', 'COLL', 'CON', 'COOP', 'CORT', 'CPF', 'CPK', 'CPRX', 'CRC', 'CRGY', 'CRI', 'CRK', 'CRSR', 'CRVL', 'CSGS', 'CSR', 'CSWI', 'CTKB', 'CTRE', 'CTS', 'CUBI', 'CURB', 'CVBF', 'CVCO', 'CVI', 'CWEN', 'CWEN.A']\n"
     ]
    },
    {
     "name": "stderr",
     "output_type": "stream",
     "text": [
      "[*********************100%***********************]  30 of 30 completed\n",
      "\n",
      "1 Failed download:\n",
      "['CWEN.A']: YFTzMissingError('$%ticker%: possibly delisted; no timezone found')\n"
     ]
    },
    {
     "name": "stdout",
     "output_type": "stream",
     "text": [
      "Batch 5 data saved to C:/A.PROJECTS/stockprediction/data/batch_5.txt\n",
      "Downloading batch 6: ['CWK', 'CWT', 'CXM', 'CXW', 'DAN', 'DCOM', 'DEA', 'DEI', 'DFH', 'DFIN', 'DGII', 'DIOD', 'DLX', 'DNOW', 'DOCN', 'DORM', 'DRH', 'DRQ', 'DV', 'DVAX', 'DXC', 'DXPE', 'DY', 'EAT', 'ECG', 'ECPG', 'EFC', 'EGBN', 'EIG', 'ELME']\n"
     ]
    },
    {
     "name": "stderr",
     "output_type": "stream",
     "text": [
      "[*********************100%***********************]  30 of 30 completed\n",
      "\n",
      "1 Failed download:\n",
      "['DRQ']: YFTzMissingError('$%ticker%: possibly delisted; no timezone found')\n"
     ]
    },
    {
     "name": "stdout",
     "output_type": "stream",
     "text": [
      "Batch 6 data saved to C:/A.PROJECTS/stockprediction/data/batch_6.txt\n",
      "Downloading batch 7: ['EMBC', 'ENOV', 'ENR', 'ENVA', 'EPAC', 'EPC', 'EPRT', 'ESE', 'ETD', 'ETSY', 'EVTC', 'EXPI', 'EXTR', 'EYE', 'EZPW', 'FBK', 'FBNC', 'FBP', 'FBRT', 'FCF', 'FCPT', 'FDP', 'FELE', 'FFBC', 'FHB', 'FIZZ', 'FL', 'FLGT', 'FORM', 'FOXF']\n"
     ]
    },
    {
     "name": "stderr",
     "output_type": "stream",
     "text": [
      "[*********************100%***********************]  30 of 30 completed\n"
     ]
    },
    {
     "name": "stdout",
     "output_type": "stream",
     "text": [
      "Batch 7 data saved to C:/A.PROJECTS/stockprediction/data/batch_7.txt\n",
      "Downloading batch 8: ['FSS', 'FTDR', 'FTRE', 'FUL', 'FULT', 'FUN', 'FWRD', 'GBX', 'GDEN', 'GDOT', 'GDYN', 'GEO', 'GES', 'GFF', 'GIII', 'GKOS', 'GMS', 'GNL', 'GNW', 'GO', 'GOGO', 'GOLF', 'GPI', 'GPRE', 'GRBK', 'GSHD', 'GTES', 'GTY', 'GVA', 'HAFC']\n"
     ]
    },
    {
     "name": "stderr",
     "output_type": "stream",
     "text": [
      "[*********************100%***********************]  30 of 30 completed\n"
     ]
    },
    {
     "name": "stdout",
     "output_type": "stream",
     "text": [
      "Batch 8 data saved to C:/A.PROJECTS/stockprediction/data/batch_8.txt\n",
      "Downloading batch 9: ['HAIN', 'HASI', 'HAYW', 'HBI', 'HCC', 'HCI', 'HCSG', 'HELE', 'HFWA', 'HI', 'HIMS', 'HIW', 'HLIT', 'HLX', 'HMN', 'HNI', 'HOPE', 'HP', 'HRMY', 'HSII', 'HSTM', 'HTH', 'HTLD', 'HTZ', 'HUBG', 'HWKN', 'HZO', 'IAC', 'IART', 'IBP']\n"
     ]
    },
    {
     "name": "stderr",
     "output_type": "stream",
     "text": [
      "[*********************100%***********************]  30 of 30 completed\n"
     ]
    },
    {
     "name": "stdout",
     "output_type": "stream",
     "text": [
      "Batch 9 data saved to C:/A.PROJECTS/stockprediction/data/batch_9.txt\n",
      "Downloading batch 10: ['ICHR', 'ICUI', 'IDCC', 'IIIN', 'IIPR', 'INDB', 'INN', 'INSP', 'INSW', 'INVA', 'IOSP', 'IPAR', 'ITGR', 'ITRI', 'JACK', 'JBGS', 'JBLU', 'JBSS', 'JBT', 'JJSF', 'JOE', 'JXN', 'KALU', 'KAR', 'KFY', 'KLG', 'KLIC', 'KMT', 'KN', 'KOP']\n"
     ]
    },
    {
     "name": "stderr",
     "output_type": "stream",
     "text": [
      "[*********************100%***********************]  30 of 30 completed\n"
     ]
    },
    {
     "name": "stdout",
     "output_type": "stream",
     "text": [
      "Batch 10 data saved to C:/A.PROJECTS/stockprediction/data/batch_10.txt\n",
      "Downloading batch 11: ['KREF', 'KRYS', 'KSS', 'KTB', 'KW', 'KWR', 'LBRT', 'LCII', 'LEG', 'LESL', 'LGIH', 'LGND', 'LKFN', 'LMAT', 'LNC', 'LNN', 'LPG', 'LQDT', 'LRN', 'LTC', 'LUMN', 'LXP', 'LZB', 'MAC', 'MARA', 'MATV', 'MATW', 'MATX', 'MBC', 'MC']\n"
     ]
    },
    {
     "name": "stderr",
     "output_type": "stream",
     "text": [
      "[*********************100%***********************]  30 of 30 completed\n"
     ]
    },
    {
     "name": "stdout",
     "output_type": "stream",
     "text": [
      "Batch 11 data saved to C:/A.PROJECTS/stockprediction/data/batch_11.txt\n",
      "Downloading batch 12: ['MCRI', 'MCW', 'MCY', 'MD', 'MDU', 'MGEE', 'MGPI', 'MGY', 'MHO', 'MLAB', 'MLKN', 'MMI', 'MMSI', 'MNRO', 'MODG', 'MOG.A', 'MP', 'MPW', 'MRCY', 'MRP', 'MRTN', 'MSEX', 'MSGS', 'MTH', 'MTRN', 'MTUS', 'MTX', 'MXL', 'MYGN', 'MYRG']\n"
     ]
    },
    {
     "name": "stderr",
     "output_type": "stream",
     "text": [
      "[*********************100%***********************]  29 of 30 completed\n",
      "\n",
      "2 Failed downloads:\n",
      "['MOG.A']: YFTzMissingError('$%ticker%: possibly delisted; no timezone found')\n",
      "['MRP']: YFPricesMissingError('$%ticker%: possibly delisted; no price data found  (1d 2020-01-01 -> 2025-01-01) (Yahoo error = \"Data doesn\\'t exist for startDate = 1577854800, endDate = 1735707600\")')\n"
     ]
    },
    {
     "name": "stdout",
     "output_type": "stream",
     "text": [
      "Batch 12 data saved to C:/A.PROJECTS/stockprediction/data/batch_12.txt\n",
      "Downloading batch 13: ['NABL', 'NARI', 'NATL', 'NAVI', 'NBHC', 'NBR', 'NBTB', 'NEO', 'NGVT', 'NHC', 'NMIH', 'NOG', 'NPK', 'NPO', 'NSIT', 'NTCT', 'NVEE', 'NVRI', 'NWBI', 'NWL', 'NWN', 'NX', 'NXRT', 'NYMT', 'ODP', 'OFG', 'OGN', 'OI', 'OII', 'OMCL']\n"
     ]
    },
    {
     "name": "stderr",
     "output_type": "stream",
     "text": [
      "[*********************100%***********************]  30 of 30 completed\n"
     ]
    },
    {
     "name": "stdout",
     "output_type": "stream",
     "text": [
      "Batch 13 data saved to C:/A.PROJECTS/stockprediction/data/batch_13.txt\n",
      "Downloading batch 14: ['OMI', 'OSIS', 'OTTR', 'OUT', 'OXM', 'PAHC', 'PARR', 'PAYO', 'PATK', 'PBH', 'PBI', 'PCRX', 'PDCO', 'PDFS', 'PEB', 'PECO', 'PENN', 'PFBC', 'PFS', 'PGNY', 'PHIN', 'PI', 'PINC', 'PIPR', 'PJT', 'PLAB', 'PLAY', 'PLMR', 'PLUS', 'PLXS']\n"
     ]
    },
    {
     "name": "stderr",
     "output_type": "stream",
     "text": [
      "[*********************100%***********************]  30 of 30 completed\n"
     ]
    },
    {
     "name": "stdout",
     "output_type": "stream",
     "text": [
      "Batch 14 data saved to C:/A.PROJECTS/stockprediction/data/batch_14.txt\n",
      "Downloading batch 15: ['PMT', 'POWL', 'PPBI', 'PRA', 'PRAA', 'PRDO', 'PRG', 'PRGS', 'PRK', 'PRLB', 'PRVA', 'PSMT', 'PTEN', 'PTGX', 'PUMP', 'PZZA', 'QDEL', 'QNST', 'QRVO', 'RAMP', 'RC', 'RCUS', 'RDN', 'RDNT', 'RES', 'REX', 'REZI', 'RGR', 'RHI', 'RNST']\n"
     ]
    },
    {
     "name": "stderr",
     "output_type": "stream",
     "text": [
      "[*********************100%***********************]  30 of 30 completed\n"
     ]
    },
    {
     "name": "stdout",
     "output_type": "stream",
     "text": [
      "Batch 15 data saved to C:/A.PROJECTS/stockprediction/data/batch_15.txt\n",
      "Downloading batch 16: ['ROCK', 'ROG', 'RUN', 'RUSHA', 'RWT', 'RXO', 'SAFE', 'SABR', 'SAFT', 'SAH', 'SANM', 'SATS', 'SBCF', 'SBH', 'SBSI', 'SCHL', 'SCL', 'SCSC', 'SCVL', 'SDGR', 'SEDG', 'SEE', 'SEM', 'SFBS', 'SFNC', 'SGH', 'SHAK', 'SHEN', 'SHO', 'SHOO']\n"
     ]
    },
    {
     "name": "stderr",
     "output_type": "stream",
     "text": [
      "[*********************100%***********************]  30 of 30 completed\n",
      "\n",
      "1 Failed download:\n",
      "['SGH']: YFTzMissingError('$%ticker%: possibly delisted; no timezone found')\n"
     ]
    },
    {
     "name": "stdout",
     "output_type": "stream",
     "text": [
      "Batch 16 data saved to C:/A.PROJECTS/stockprediction/data/batch_16.txt\n",
      "Downloading batch 17: ['SIG', 'SITC', 'SITM', 'SJW', 'SKT', 'SKY', 'SKYW', 'SLG', 'SLP', 'SLVM', 'SM', 'SMP', 'SMPL', 'SMTC', 'SNCY', 'SNDR', 'SNEX', 'SONO', 'SPNT', 'SPSC', 'SPTN', 'SPXC', 'SSTK', 'STAA', 'STBA', 'STC', 'STEL', 'STEP', 'STRA', 'SUPN']\n"
     ]
    },
    {
     "name": "stderr",
     "output_type": "stream",
     "text": [
      "[*********************100%***********************]  30 of 30 completed\n"
     ]
    },
    {
     "name": "stdout",
     "output_type": "stream",
     "text": [
      "Batch 17 data saved to C:/A.PROJECTS/stockprediction/data/batch_17.txt\n",
      "Downloading batch 18: ['SXC', 'SXI', 'SXT', 'SWI', 'TALO', 'TBBK', 'TDS', 'TDW', 'TFIN', 'TGI', 'TGNA', 'TGTX', 'THRM', 'THRY', 'THS', 'TILE', 'TMDX', 'TMP', 'TNC', 'TNDM', 'TPH', 'TR', 'TRIP', 'TRMK', 'TRN', 'TRNO', 'TRST', 'TRUP', 'TTGT', 'TTMI']\n"
     ]
    },
    {
     "name": "stderr",
     "output_type": "stream",
     "text": [
      "[*********************100%***********************]  30 of 30 completed\n"
     ]
    },
    {
     "name": "stdout",
     "output_type": "stream",
     "text": [
      "Batch 18 data saved to C:/A.PROJECTS/stockprediction/data/batch_18.txt\n",
      "Downloading batch 19: ['TWI', 'TWO', 'UCBI', 'UCTT', 'UE', 'UFCS', 'UFPT', 'UHT', 'UNF', 'UNFI', 'UNIT', 'UPBD', 'URBN', 'USNA', 'USPH', 'UTL', 'UVV', 'VBTX', 'VCEL', 'VECO', 'VFC', 'VIAV', 'VICR', 'VIR', 'VIRT', 'VRE', 'VRRM', 'VRTS', 'VSAT', 'VSCO']\n"
     ]
    },
    {
     "name": "stderr",
     "output_type": "stream",
     "text": [
      "[*********************100%***********************]  30 of 30 completed\n",
      "\n",
      "1 Failed download:\n",
      "['UCBI']: YFTzMissingError('$%ticker%: possibly delisted; no timezone found')\n"
     ]
    },
    {
     "name": "stdout",
     "output_type": "stream",
     "text": [
      "Batch 19 data saved to C:/A.PROJECTS/stockprediction/data/batch_19.txt\n",
      "Downloading batch 20: ['VSH', 'VSTS', 'VTOL', 'VTLE', 'VVI', 'VYX', 'WABC', 'WAFD', 'WD', 'WDFC', 'WERN', 'WGO', 'WHD', 'WKC', 'WLY', 'WNC', 'WOLF', 'WOR', 'WRLD', 'WS', 'WSFS', 'WSR', 'WT', 'WWW', 'XHR', 'XNCR', 'XPEL', 'XRX', 'YELP', 'YOU']\n"
     ]
    },
    {
     "name": "stderr",
     "output_type": "stream",
     "text": [
      "[*********************100%***********************]  30 of 30 completed\n"
     ]
    },
    {
     "name": "stdout",
     "output_type": "stream",
     "text": [
      "Batch 20 data saved to C:/A.PROJECTS/stockprediction/data/batch_20.txt\n",
      "Downloading batch 21: ['ZD', 'ZWS']\n"
     ]
    },
    {
     "name": "stderr",
     "output_type": "stream",
     "text": [
      "[*********************100%***********************]  2 of 2 completed"
     ]
    },
    {
     "name": "stdout",
     "output_type": "stream",
     "text": [
      "Batch 21 data saved to C:/A.PROJECTS/stockprediction/data/batch_21.txt\n",
      "All batches processed.\n"
     ]
    },
    {
     "name": "stderr",
     "output_type": "stream",
     "text": [
      "\n"
     ]
    }
   ],
   "source": [
    "# Batch size\n",
    "batch_size = 30\n",
    "\n",
    "def save_data_to_file(data, filename):\n",
    "    data.to_csv(filename, sep='\\t', index=True)\n",
    "\n",
    "\n",
    "sp600_list = []\n",
    "# Loop through batches of the tickers\n",
    "for i in range(0, len(sp600_tickers), batch_size):\n",
    "    batch = sp600_tickers[i:i + batch_size]  # Get the next 30 tickers\n",
    "    print(f\"Downloading batch {i // batch_size + 1}: {batch}\")\n",
    "    \n",
    "    # Download data for the current batch\n",
    "    try:\n",
    "        data = yf.download(batch, start=\"2020-01-01\", end=\"2025-01-01\")  # Adjust date range\n",
    "        if 'Adj Close' in data:\n",
    "            stock_data = data['Adj Close']\n",
    "        elif 'Close' in data:\n",
    "            stock_data = data['Close']\n",
    "        else:\n",
    "            raise ValueError(\"Neither 'Adj Close' nor 'Close' data is available for the tickers.\")\n",
    "        # Save the data to a text file\n",
    "        batch_filename = homepath + f\"data/batch_{i // batch_size + 1}.txt\"\n",
    "        # save_data_to_file(stock_data, batch_filename)\n",
    "        sp600_list.append(stock_data)\n",
    "        print(f\"Batch {i // batch_size + 1} data saved to {batch_filename}\")\n",
    "        \n",
    "    except Exception as e:\n",
    "        print(f\"Error downloading/saving data for batch {i // batch_size + 1}: {e}\")\n",
    "\n",
    "print(\"All batches processed.\")"
   ]
  },
  {
   "cell_type": "code",
   "execution_count": null,
   "metadata": {},
   "outputs": [],
   "source": [
    "sp600_timeseries = pd.concat(sp600_list, axis=1)\n",
    "sp600_timeseries = sp600_timeseries.dropna(axis=1, thresh=len(sp600_timeseries)-20)\n",
    "# sp600_timeseries.to_csv(homepath+'data/sp600_timeseries.csv')"
   ]
  },
  {
   "cell_type": "markdown",
   "metadata": {},
   "source": [
    "### NYSE All Tickers Timeseries"
   ]
  }
 ],
 "metadata": {
  "kernelspec": {
   "display_name": "Python 3",
   "language": "python",
   "name": "python3"
  },
  "language_info": {
   "codemirror_mode": {
    "name": "ipython",
    "version": 3
   },
   "file_extension": ".py",
   "mimetype": "text/x-python",
   "name": "python",
   "nbconvert_exporter": "python",
   "pygments_lexer": "ipython3",
   "version": "3.12.4"
  }
 },
 "nbformat": 4,
 "nbformat_minor": 2
}
