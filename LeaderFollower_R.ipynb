{
 "cells": [
  {
   "cell_type": "markdown",
   "metadata": {},
   "source": [
    "## base"
   ]
  },
  {
   "cell_type": "code",
   "execution_count": 1,
   "metadata": {
    "vscode": {
     "languageId": "r"
    }
   },
   "outputs": [
    {
     "name": "stderr",
     "output_type": "stream",
     "text": [
      "\n",
      "Attaching package: 'dplyr'\n",
      "\n",
      "\n",
      "The following objects are masked from 'package:stats':\n",
      "\n",
      "    filter, lag\n",
      "\n",
      "\n",
      "The following objects are masked from 'package:base':\n",
      "\n",
      "    intersect, setdiff, setequal, union\n",
      "\n",
      "\n",
      "\n",
      "Attaching package: 'lubridate'\n",
      "\n",
      "\n",
      "The following objects are masked from 'package:base':\n",
      "\n",
      "    date, intersect, setdiff, union\n",
      "\n",
      "\n",
      "\n",
      "Attaching package: 'zoo'\n",
      "\n",
      "\n",
      "The following objects are masked from 'package:base':\n",
      "\n",
      "    as.Date, as.Date.numeric\n",
      "\n",
      "\n",
      "Loading required package: iterators\n",
      "\n",
      "Loading required package: parallel\n",
      "\n",
      "Loading required package: future\n",
      "\n"
     ]
    }
   ],
   "source": [
    "# Define homepath and data path\n",
    "homepath <- \"C:/A.PROJECTS/stockprediction/\"\n",
    "data_address <- \"C:/A.PROJECTS/stockprediction/data/sp500_timeseries.txt\"\n",
    "\n",
    "# Load required libraries\n",
    "library(dplyr)\n",
    "library(tidyr)\n",
    "library(lubridate)\n",
    "library(ggplot2)\n",
    "library(zoo)\n",
    "library(mFLICA)\n",
    "library(foreach)\n",
    "library(doParallel)\n",
    "library(future.apply)\n"
   ]
  },
  {
   "cell_type": "code",
   "execution_count": 2,
   "metadata": {
    "vscode": {
     "languageId": "r"
    }
   },
   "outputs": [],
   "source": [
    "# Read data\n",
    "sp500_price <- read.table(data_address, header = TRUE, sep = \"\\t\", stringsAsFactors = FALSE)\n",
    "\n",
    "# Convert Date column to datetime\n",
    "sp500_price$Date <- as.Date(sp500_price$Date, format = \"%Y-%m-%d\")\n",
    "\n",
    "# Set Date as index\n",
    "sp500_price <- sp500_price %>% arrange(Date)\n",
    "\n",
    "Date <- sp500_price$Date %>% as.Date()\n",
    "\n",
    "sp500_price$Date <- NULL\n",
    "\n",
    "# Handle missing values by interpolation\n",
    "sp500_price <- na.approx(sp500_price, na.rm = FALSE)\n",
    "\n",
    "# Convert matrix to dataframe\n",
    "sp500_price <- as.data.frame(sp500_price)\n",
    "\n",
    "# Drop \"Long-NA\" columns\n",
    "sp500_price = sp500_price %>% select_if(~ sum(is.na(.)) <= 20)\n",
    "\n",
    "# Add Date column\n",
    "\n",
    "sp500_price = cbind(Date, sp500_price)"
   ]
  },
  {
   "cell_type": "code",
   "execution_count": 30,
   "metadata": {
    "vscode": {
     "languageId": "r"
    }
   },
   "outputs": [],
   "source": [
    "compute_returns <- function(price_data) {\n",
    "  \n",
    "  price_data$Date <- as.Date(price_data$Date)\n",
    "  \n",
    "  annual_log <- price_data %>%\n",
    "    group_by(Year = year(Date)) %>%\n",
    "    summarise(across(where(is.numeric), last), .groups = \"drop\") %>%\n",
    "    mutate(across(where(is.numeric), ~ log(. / lag(.)))) %>%\n",
    "    slice(-1)\n",
    "    \n",
    "  \n",
    "  # Compute simple returns\n",
    "  annual_simple <- price_data %>%\n",
    "    group_by(Year = year(Date)) %>%\n",
    "    summarise(across(where(is.numeric), last), .groups = \"drop\") %>%\n",
    "    mutate(across(where(is.numeric), ~ (. / lag(.) - 1))) %>%\n",
    "    slice(-1)\n",
    "\n",
    "\n",
    "  quarterly_log <- price_data %>%\n",
    "    group_by(Year = year(Date), Quarter = quarter(Date)) %>%\n",
    "    summarise(across(where(is.numeric), last), .groups = \"drop\") %>%\n",
    "    mutate(across(where(is.numeric), ~ log(. / lag(.)))) %>%\n",
    "    slice(-1)\n",
    "  \n",
    "\n",
    "  quarterly_simple <- price_data %>%\n",
    "    group_by(Year = year(Date), Quarter = quarter(Date)) %>%\n",
    "    summarise(across(where(is.numeric), last), .groups = \"drop\") %>%\n",
    "    mutate(across(where(is.numeric), ~ (. / lag(.) - 1))) %>%\n",
    "    slice(-1)  \n",
    "\n",
    "\n",
    "  monthly_log <- price_data %>%\n",
    "    group_by(Year = year(Date), Month = month(Date)) %>%\n",
    "    summarise(across(where(is.numeric), last), .groups = \"drop\") %>%\n",
    "    mutate(across(where(is.numeric), ~ log(. / lag(.)))) %>%\n",
    "    slice(-1) \n",
    "  \n",
    "\n",
    "  monthly_simple <- price_data %>%\n",
    "    group_by(Year = year(Date), Month = month(Date)) %>%\n",
    "    summarise(across(where(is.numeric), last), .groups = \"drop\") %>%\n",
    "    mutate(across(where(is.numeric), ~ (. / lag(.) - 1))) %>%\n",
    "    slice(-1)  \n",
    "\n",
    "\n",
    "  weekly_log <- price_data %>%\n",
    "    group_by(Year = year(Date), Week = week(Date)) %>%\n",
    "    summarise(across(where(is.numeric), last), .groups = \"drop\") %>%\n",
    "    mutate(across(where(is.numeric), ~ log(. / lag(.)))) %>%\n",
    "    slice(-1) \n",
    "  \n",
    "\n",
    "  weekly_simple <- price_data %>%\n",
    "    group_by(Year = year(Date), Week = week(Date)) %>%\n",
    "    summarise(across(where(is.numeric), last), .groups = \"drop\") %>%\n",
    "    mutate(across(where(is.numeric), ~ (. / lag(.) - 1))) %>%\n",
    "    slice(-1)  \n",
    "\n",
    "  rets_df <- list(\n",
    "    \"weekly_log\" = weekly_log,\n",
    "    \"weekly_simple\" = weekly_simple,\n",
    "    \"monthly_log\" = monthly_log,\n",
    "    \"monthly_simple\" = monthly_simple,\n",
    "    \"quarterly_log\" = quarterly_log,\n",
    "    \"quarterly_simple\" = quarterly_simple,\n",
    "    \"annual_log\" = annual_log,\n",
    "    \"annual_simple\" = annual_simple\n",
    "  )\n",
    "\n",
    "  return(rets_df)\n",
    "}"
   ]
  },
  {
   "cell_type": "code",
   "execution_count": 31,
   "metadata": {
    "vscode": {
     "languageId": "r"
    }
   },
   "outputs": [],
   "source": [
    "rets <- compute_returns(sp500_price)"
   ]
  },
  {
   "cell_type": "markdown",
   "metadata": {},
   "source": [
    "### Leader-Follower (running parallel)"
   ]
  },
  {
   "cell_type": "code",
   "execution_count": 51,
   "metadata": {
    "vscode": {
     "languageId": "r"
    }
   },
   "outputs": [
    {
     "ename": "",
     "evalue": "",
     "output_type": "error",
     "traceback": [
      "\u001b[1;31mThe Kernel crashed while executing code in the current cell or a previous cell. \n",
      "\u001b[1;31mPlease review the code in the cell(s) to identify a possible cause of the failure. \n",
      "\u001b[1;31mClick <a href='https://aka.ms/vscodeJupyterKernelCrash'>here</a> for more info. \n",
      "\u001b[1;31mView Jupyter <a href='command:jupyter.viewOutput'>log</a> for further details."
     ]
    }
   ],
   "source": [
    "library(dplyr)\n",
    "library(future.apply)\n",
    "library(future)\n",
    "library(data.table)\n",
    "library(mFLICA)  # Assuming mFLICA is from an external package\n",
    "\n",
    "plan(multisession)  # Enable parallel execution\n",
    "\n",
    "# Convert weekly_log data to matrix (ENSURE ONLY NUMERIC COLUMNS)\n",
    "sp500_matrix <- rets[['weekly_log']] %>%\n",
    "  select(where(is.numeric)) %>%\n",
    "  as.matrix()\n",
    "\n",
    "# Ensure matrix has valid numeric values\n",
    "if (is.null(sp500_matrix) || nrow(sp500_matrix) == 0 || ncol(sp500_matrix) == 0) {\n",
    "  stop(\"Error: sp500_matrix is empty or incorrectly formatted.\")\n",
    "}\n",
    "\n",
    "# Parallelized function (Processing WHOLE matrix, not by column)\n",
    "result_mFLICA <- future_lapply(list(sp500_matrix), function(x) {\n",
    "    print(\"Processing batch:\")\n",
    "    print(dim(x))  # Check the matrix dimensions before passing to mFLICA\n",
    "    print(str(x))  # Debug structure\n",
    "\n",
    "    if (is.null(x) || any(is.na(x)) || all(x == 0)) {\n",
    "      print(\"Skipping due to NULL/NA or all-zero input.\")\n",
    "      return(NULL)\n",
    "    }\n",
    "\n",
    "    tryCatch({\n",
    "      result <- mFLICA(x)\n",
    "      print(\"Completed batch processing.\")  \n",
    "      return(result)\n",
    "    }, error = function(e) {\n",
    "      print(paste(\"Error in mFLICA:\", e$message))\n",
    "      return(NULL)\n",
    "    })\n",
    "  }, future.seed = TRUE)\n",
    "\n",
    "plan(sequential)  # Reset execution mode\n",
    "\n",
    "print(result_mFLICA)\n"
   ]
  },
  {
   "cell_type": "code",
   "execution_count": null,
   "metadata": {
    "vscode": {
     "languageId": "r"
    }
   },
   "outputs": [],
   "source": [
    "\"\"\" THIS CODE IS THE SAME AS ABOVE BUT WITH MAXIMUM SPEED\"\"\"\n",
    "\n",
    "\n",
    "library(dplyr)\n",
    "library(future.apply)\n",
    "library(future)\n",
    "library(data.table)\n",
    "library(mFLICA)  # Assuming mFLICA is from an external package\n",
    "library(furrr)  # Faster alternative to future_lapply()\n",
    "\n",
    "# 🔥 Set up optimized parallel execution\n",
    "plan(multisession, workers = availableCores() - 1)  # Use all but 1 core\n",
    "\n",
    "# 🚀 Convert weekly_log data to matrix (ENSURE ONLY NUMERIC COLUMNS)\n",
    "sp500_matrix <- rets[['weekly_log']] %>%\n",
    "  select(where(is.numeric)) %>%\n",
    "  as.matrix()\n",
    "\n",
    "# Ensure matrix has valid numeric values\n",
    "if (is.null(sp500_matrix) || nrow(sp500_matrix) == 0 || ncol(sp500_matrix) == 0) {\n",
    "  stop(\"Error: sp500_matrix is empty or incorrectly formatted.\")\n",
    "}\n",
    "\n",
    "# 🔥 Parallelized function using `future_map()` (Faster than future_lapply)\n",
    "result_mFLICA <- future_map(list(sp500_matrix), function(x) {\n",
    "    print(\"Processing batch:\")\n",
    "    print(dim(x))  # Debug matrix dimensions\n",
    "    print(str(x))  # Debug structure\n",
    "\n",
    "    if (is.null(x) || any(is.na(x)) || all(x == 0)) {\n",
    "      print(\"Skipping due to NULL/NA or all-zero input.\")\n",
    "      return(NULL)\n",
    "    }\n",
    "\n",
    "    tryCatch({\n",
    "      result <- mFLICA(x)\n",
    "      print(\"Completed batch processing.\")  \n",
    "      return(result)\n",
    "    }, error = function(e) {\n",
    "      print(paste(\"Error in mFLICA:\", e$message))\n",
    "      return(NULL)\n",
    "    })\n",
    "  }, .options = furrr_options(seed = TRUE))  # Ensures reproducibility\n",
    "\n",
    "plan(sequential)  # Reset execution mode\n",
    "\n",
    "print(result_mFLICA)\n"
   ]
  },
  {
   "cell_type": "markdown",
   "metadata": {},
   "source": [
    "### Leader-Follower (simple running)"
   ]
  },
  {
   "cell_type": "code",
   "execution_count": null,
   "metadata": {
    "vscode": {
     "languageId": "r"
    }
   },
   "outputs": [],
   "source": [
    "result_mFLICA <- sp500_price %>%\n",
    "  # Remove \"Year\" and \"Week\" columns only if they exist\n",
    "  select(-any_of(c(\"Year\", \"Week\"))) %>%\n",
    "  # Keep only numeric columns to avoid conversion issues\n",
    "  select(where(is.numeric)) %>%\n",
    "  # Convert to matrix\n",
    "  as.matrix() %>%\n",
    "  # Apply mFLICA function\n",
    "  mFLICA()"
   ]
  },
  {
   "cell_type": "markdown",
   "metadata": {},
   "source": [
    "### Plotting"
   ]
  },
  {
   "cell_type": "code",
   "execution_count": null,
   "metadata": {
    "vscode": {
     "languageId": "r"
    }
   },
   "outputs": [],
   "source": [
    "plot(result_mFLICA)"
   ]
  },
  {
   "cell_type": "markdown",
   "metadata": {},
   "source": [
    "###"
   ]
  }
 ],
 "metadata": {
  "kernelspec": {
   "display_name": "R",
   "language": "R",
   "name": "ir"
  },
  "language_info": {
   "codemirror_mode": "r",
   "file_extension": ".r",
   "mimetype": "text/x-r-source",
   "name": "R",
   "pygments_lexer": "r",
   "version": "4.4.2"
  }
 },
 "nbformat": 4,
 "nbformat_minor": 2
}
