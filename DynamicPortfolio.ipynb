{
 "cells": [
  {
   "cell_type": "markdown",
   "metadata": {},
   "source": [
    "## Import Libraries"
   ]
  },
  {
   "cell_type": "code",
   "execution_count": null,
   "metadata": {},
   "outputs": [],
   "source": [
    "import numpy as np\n",
    "import pandas as pd\n",
    "import yfinance as yf\n",
    "from arch import arch_model\n",
    "from scipy.optimize import minimize"
   ]
  },
  {
   "cell_type": "markdown",
   "metadata": {},
   "source": [
    "## Dynamic Portfolio: <span style=\"font-size:20px; color:white; font-weight:900\">Risk Parity (Strategy) + GARCH (Simulation)</span>"
   ]
  },
  {
   "cell_type": "code",
   "execution_count": null,
   "metadata": {},
   "outputs": [],
   "source": [
    "\n",
    "\n",
    "# Step 1: Download historical data\n",
    "tickers = ['AAPL', 'MSFT', 'GOOGL', 'AMZN']  # Example assets\n",
    "data = yf.download(tickers, start='2015-01-01', end='2025-01-01')['Adj Close']\n",
    "returns = np.log(data / data.shift(1)).dropna()\n",
    "\n",
    "# Step 2: Fit GARCH(1,1) model and forecast volatility\n",
    "def garch_volatility_forecast(returns, horizon=1):\n",
    "    model = arch_model(returns, vol='Garch', p=1, q=1)\n",
    "    res = model.fit(disp='off')\n",
    "    forecast = res.forecast(start=returns.index[-1], horizon=horizon, reindex=False)\n",
    "    return np.sqrt(forecast.variance.iloc[-1])  # Annualized volatility\n",
    "\n",
    "# Compute volatility forecasts\n",
    "vol_forecasts = pd.Series({ticker: garch_volatility_forecast(returns[ticker]) for ticker in tickers})\n",
    "\n",
    "# Step 3: Compute Risk Parity Weights\n",
    "def risk_parity_weights(vols):\n",
    "    inv_vols = 1 / vols\n",
    "    weights = inv_vols / inv_vols.sum()\n",
    "    return weights\n",
    "\n",
    "weights = risk_parity_weights(vol_forecasts)\n",
    "\n",
    "# Step 4: Portfolio Rebalancing Function\n",
    "def rebalance_portfolio(returns, rebalance_freq='M'):\n",
    "    weight_history = []\n",
    "    \n",
    "    for date, ret in returns.resample(rebalance_freq).mean().iterrows():\n",
    "        vol_forecasts = pd.Series({ticker: garch_volatility_forecast(returns[ticker].loc[:date]) for ticker in tickers})\n",
    "        new_weights = risk_parity_weights(vol_forecasts)\n",
    "        weight_history.append(pd.Series(new_weights, name=date))\n",
    "    \n",
    "    return pd.DataFrame(weight_history)\n",
    "\n",
    "# Compute dynamic weights over time\n",
    "dynamic_weights = rebalance_portfolio(returns)\n",
    "\n",
    "# Display final portfolio weights\n",
    "dynamic_weights.tail()\n"
   ]
  },
  {
   "cell_type": "code",
   "execution_count": null,
   "metadata": {},
   "outputs": [],
   "source": []
  }
 ],
 "metadata": {
  "kernelspec": {
   "display_name": "Python 3",
   "language": "python",
   "name": "python3"
  },
  "language_info": {
   "name": "python",
   "version": "3.12.4"
  }
 },
 "nbformat": 4,
 "nbformat_minor": 2
}
